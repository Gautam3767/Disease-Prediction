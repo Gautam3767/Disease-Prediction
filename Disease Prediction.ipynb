{
  "cells": [
    {
      "cell_type": "code",
      "execution_count": null,
      "metadata": {
        "execution": {
          "iopub.execute_input": "2023-11-05T17:57:24.64405Z",
          "iopub.status.busy": "2023-11-05T17:57:24.643673Z",
          "iopub.status.idle": "2023-11-05T17:57:24.65096Z",
          "shell.execute_reply": "2023-11-05T17:57:24.649724Z",
          "shell.execute_reply.started": "2023-11-05T17:57:24.644019Z"
        },
        "id": "sjo0yqGIOwCp",
        "trusted": true
      },
      "outputs": [],
      "source": [
        "#import necessary libraries\n",
        "import pandas as pd\n",
        "import numpy as np\n",
        "import matplotlib.pyplot as plt\n",
        "\n",
        "import string\n",
        "import nltk\n",
        "from nltk.corpus import stopwords\n",
        "from nltk.tokenize import word_tokenize\n",
        "from wordcloud import WordCloud\n",
        "\n",
        "from sklearn.feature_extraction.text import TfidfVectorizer\n",
        "from sklearn.model_selection import train_test_split\n",
        "from sklearn.metrics import accuracy_score, classification_report\n",
        "\n",
        "from sklearn.neighbors import KNeighborsClassifier\n",
        "from sklearn.svm import SVC\n",
        "from sklearn.ensemble import RandomForestClassifier"
      ]
    },
    {
      "cell_type": "code",
      "execution_count": null,
      "metadata": {
        "colab": {
          "base_uri": "https://localhost:8080/",
          "height": 424
        },
        "execution": {
          "iopub.execute_input": "2023-11-05T17:57:24.977176Z",
          "iopub.status.busy": "2023-11-05T17:57:24.976792Z",
          "iopub.status.idle": "2023-11-05T17:57:24.997755Z",
          "shell.execute_reply": "2023-11-05T17:57:24.996434Z",
          "shell.execute_reply.started": "2023-11-05T17:57:24.977139Z"
        },
        "id": "gkkRlBQPOwCq",
        "outputId": "5d998c70-0bb7-4992-a748-18dd64cf98d7",
        "trusted": true
      },
      "outputs": [
        {
          "data": {
            "application/vnd.google.colaboratory.intrinsic+json": {
              "summary": "{\n  \"name\": \"df\",\n  \"rows\": 1200,\n  \"fields\": [\n    {\n      \"column\": \"label\",\n      \"properties\": {\n        \"dtype\": \"category\",\n        \"samples\": [\n          \"Pneumonia\",\n          \"Jaundice\",\n          \"Psoriasis\"\n        ],\n        \"num_unique_values\": 24,\n        \"semantic_type\": \"\",\n        \"description\": \"\"\n      }\n    },\n    {\n      \"column\": \"text\",\n      \"properties\": {\n        \"dtype\": \"string\",\n        \"samples\": [\n          \"I've had back pain, a cough that won't go away, and limb weakness. I've been experiencing neck pain, instability, and balance concerns.\",\n          \"Recently, I've been having problems using the restroom. Going is incredibly difficult, and doing so hurts. In addition, I've been experiencing some butt soreness, and my stools have been bloody. My anus has also been quite itching and aggravated.\",\n          \"I've been exhausted and experiencing nausea and itching. In addition, I've lost weight and have a temperature. My urine is dark, and my skin has turned yellow. Additionally, I've been having stomach pain.\"\n        ],\n        \"num_unique_values\": 1153,\n        \"semantic_type\": \"\",\n        \"description\": \"\"\n      }\n    }\n  ]\n}",
              "type": "dataframe",
              "variable_name": "df"
            },
            "text/html": [
              "\n",
              "  <div id=\"df-3cb72c3d-35dd-4cbd-95eb-cc59c39b40f7\" class=\"colab-df-container\">\n",
              "    <div>\n",
              "<style scoped>\n",
              "    .dataframe tbody tr th:only-of-type {\n",
              "        vertical-align: middle;\n",
              "    }\n",
              "\n",
              "    .dataframe tbody tr th {\n",
              "        vertical-align: top;\n",
              "    }\n",
              "\n",
              "    .dataframe thead th {\n",
              "        text-align: right;\n",
              "    }\n",
              "</style>\n",
              "<table border=\"1\" class=\"dataframe\">\n",
              "  <thead>\n",
              "    <tr style=\"text-align: right;\">\n",
              "      <th></th>\n",
              "      <th>label</th>\n",
              "      <th>text</th>\n",
              "    </tr>\n",
              "  </thead>\n",
              "  <tbody>\n",
              "    <tr>\n",
              "      <th>0</th>\n",
              "      <td>Psoriasis</td>\n",
              "      <td>I have been experiencing a skin rash on my arm...</td>\n",
              "    </tr>\n",
              "    <tr>\n",
              "      <th>1</th>\n",
              "      <td>Psoriasis</td>\n",
              "      <td>My skin has been peeling, especially on my kne...</td>\n",
              "    </tr>\n",
              "    <tr>\n",
              "      <th>2</th>\n",
              "      <td>Psoriasis</td>\n",
              "      <td>I have been experiencing joint pain in my fing...</td>\n",
              "    </tr>\n",
              "    <tr>\n",
              "      <th>3</th>\n",
              "      <td>Psoriasis</td>\n",
              "      <td>There is a silver like dusting on my skin, esp...</td>\n",
              "    </tr>\n",
              "    <tr>\n",
              "      <th>4</th>\n",
              "      <td>Psoriasis</td>\n",
              "      <td>My nails have small dents or pits in them, and...</td>\n",
              "    </tr>\n",
              "    <tr>\n",
              "      <th>...</th>\n",
              "      <td>...</td>\n",
              "      <td>...</td>\n",
              "    </tr>\n",
              "    <tr>\n",
              "      <th>1195</th>\n",
              "      <td>diabetes</td>\n",
              "      <td>I'm shaking and trembling all over. I've lost ...</td>\n",
              "    </tr>\n",
              "    <tr>\n",
              "      <th>1196</th>\n",
              "      <td>diabetes</td>\n",
              "      <td>Particularly in the crevices of my skin, I hav...</td>\n",
              "    </tr>\n",
              "    <tr>\n",
              "      <th>1197</th>\n",
              "      <td>diabetes</td>\n",
              "      <td>I regularly experience these intense urges and...</td>\n",
              "    </tr>\n",
              "    <tr>\n",
              "      <th>1198</th>\n",
              "      <td>diabetes</td>\n",
              "      <td>I have trouble breathing, especially outside. ...</td>\n",
              "    </tr>\n",
              "    <tr>\n",
              "      <th>1199</th>\n",
              "      <td>diabetes</td>\n",
              "      <td>I constantly sneeze and have a dry cough. My i...</td>\n",
              "    </tr>\n",
              "  </tbody>\n",
              "</table>\n",
              "<p>1200 rows × 2 columns</p>\n",
              "</div>\n",
              "    <div class=\"colab-df-buttons\">\n",
              "\n",
              "  <div class=\"colab-df-container\">\n",
              "    <button class=\"colab-df-convert\" onclick=\"convertToInteractive('df-3cb72c3d-35dd-4cbd-95eb-cc59c39b40f7')\"\n",
              "            title=\"Convert this dataframe to an interactive table.\"\n",
              "            style=\"display:none;\">\n",
              "\n",
              "  <svg xmlns=\"http://www.w3.org/2000/svg\" height=\"24px\" viewBox=\"0 -960 960 960\">\n",
              "    <path d=\"M120-120v-720h720v720H120Zm60-500h600v-160H180v160Zm220 220h160v-160H400v160Zm0 220h160v-160H400v160ZM180-400h160v-160H180v160Zm440 0h160v-160H620v160ZM180-180h160v-160H180v160Zm440 0h160v-160H620v160Z\"/>\n",
              "  </svg>\n",
              "    </button>\n",
              "\n",
              "  <style>\n",
              "    .colab-df-container {\n",
              "      display:flex;\n",
              "      gap: 12px;\n",
              "    }\n",
              "\n",
              "    .colab-df-convert {\n",
              "      background-color: #E8F0FE;\n",
              "      border: none;\n",
              "      border-radius: 50%;\n",
              "      cursor: pointer;\n",
              "      display: none;\n",
              "      fill: #1967D2;\n",
              "      height: 32px;\n",
              "      padding: 0 0 0 0;\n",
              "      width: 32px;\n",
              "    }\n",
              "\n",
              "    .colab-df-convert:hover {\n",
              "      background-color: #E2EBFA;\n",
              "      box-shadow: 0px 1px 2px rgba(60, 64, 67, 0.3), 0px 1px 3px 1px rgba(60, 64, 67, 0.15);\n",
              "      fill: #174EA6;\n",
              "    }\n",
              "\n",
              "    .colab-df-buttons div {\n",
              "      margin-bottom: 4px;\n",
              "    }\n",
              "\n",
              "    [theme=dark] .colab-df-convert {\n",
              "      background-color: #3B4455;\n",
              "      fill: #D2E3FC;\n",
              "    }\n",
              "\n",
              "    [theme=dark] .colab-df-convert:hover {\n",
              "      background-color: #434B5C;\n",
              "      box-shadow: 0px 1px 3px 1px rgba(0, 0, 0, 0.15);\n",
              "      filter: drop-shadow(0px 1px 2px rgba(0, 0, 0, 0.3));\n",
              "      fill: #FFFFFF;\n",
              "    }\n",
              "  </style>\n",
              "\n",
              "    <script>\n",
              "      const buttonEl =\n",
              "        document.querySelector('#df-3cb72c3d-35dd-4cbd-95eb-cc59c39b40f7 button.colab-df-convert');\n",
              "      buttonEl.style.display =\n",
              "        google.colab.kernel.accessAllowed ? 'block' : 'none';\n",
              "\n",
              "      async function convertToInteractive(key) {\n",
              "        const element = document.querySelector('#df-3cb72c3d-35dd-4cbd-95eb-cc59c39b40f7');\n",
              "        const dataTable =\n",
              "          await google.colab.kernel.invokeFunction('convertToInteractive',\n",
              "                                                    [key], {});\n",
              "        if (!dataTable) return;\n",
              "\n",
              "        const docLinkHtml = 'Like what you see? Visit the ' +\n",
              "          '<a target=\"_blank\" href=https://colab.research.google.com/notebooks/data_table.ipynb>data table notebook</a>'\n",
              "          + ' to learn more about interactive tables.';\n",
              "        element.innerHTML = '';\n",
              "        dataTable['output_type'] = 'display_data';\n",
              "        await google.colab.output.renderOutput(dataTable, element);\n",
              "        const docLink = document.createElement('div');\n",
              "        docLink.innerHTML = docLinkHtml;\n",
              "        element.appendChild(docLink);\n",
              "      }\n",
              "    </script>\n",
              "  </div>\n",
              "\n",
              "\n",
              "<div id=\"df-abb4ee87-9e23-4d9b-9ffc-77677f08e794\">\n",
              "  <button class=\"colab-df-quickchart\" onclick=\"quickchart('df-abb4ee87-9e23-4d9b-9ffc-77677f08e794')\"\n",
              "            title=\"Suggest charts\"\n",
              "            style=\"display:none;\">\n",
              "\n",
              "<svg xmlns=\"http://www.w3.org/2000/svg\" height=\"24px\"viewBox=\"0 0 24 24\"\n",
              "     width=\"24px\">\n",
              "    <g>\n",
              "        <path d=\"M19 3H5c-1.1 0-2 .9-2 2v14c0 1.1.9 2 2 2h14c1.1 0 2-.9 2-2V5c0-1.1-.9-2-2-2zM9 17H7v-7h2v7zm4 0h-2V7h2v10zm4 0h-2v-4h2v4z\"/>\n",
              "    </g>\n",
              "</svg>\n",
              "  </button>\n",
              "\n",
              "<style>\n",
              "  .colab-df-quickchart {\n",
              "      --bg-color: #E8F0FE;\n",
              "      --fill-color: #1967D2;\n",
              "      --hover-bg-color: #E2EBFA;\n",
              "      --hover-fill-color: #174EA6;\n",
              "      --disabled-fill-color: #AAA;\n",
              "      --disabled-bg-color: #DDD;\n",
              "  }\n",
              "\n",
              "  [theme=dark] .colab-df-quickchart {\n",
              "      --bg-color: #3B4455;\n",
              "      --fill-color: #D2E3FC;\n",
              "      --hover-bg-color: #434B5C;\n",
              "      --hover-fill-color: #FFFFFF;\n",
              "      --disabled-bg-color: #3B4455;\n",
              "      --disabled-fill-color: #666;\n",
              "  }\n",
              "\n",
              "  .colab-df-quickchart {\n",
              "    background-color: var(--bg-color);\n",
              "    border: none;\n",
              "    border-radius: 50%;\n",
              "    cursor: pointer;\n",
              "    display: none;\n",
              "    fill: var(--fill-color);\n",
              "    height: 32px;\n",
              "    padding: 0;\n",
              "    width: 32px;\n",
              "  }\n",
              "\n",
              "  .colab-df-quickchart:hover {\n",
              "    background-color: var(--hover-bg-color);\n",
              "    box-shadow: 0 1px 2px rgba(60, 64, 67, 0.3), 0 1px 3px 1px rgba(60, 64, 67, 0.15);\n",
              "    fill: var(--button-hover-fill-color);\n",
              "  }\n",
              "\n",
              "  .colab-df-quickchart-complete:disabled,\n",
              "  .colab-df-quickchart-complete:disabled:hover {\n",
              "    background-color: var(--disabled-bg-color);\n",
              "    fill: var(--disabled-fill-color);\n",
              "    box-shadow: none;\n",
              "  }\n",
              "\n",
              "  .colab-df-spinner {\n",
              "    border: 2px solid var(--fill-color);\n",
              "    border-color: transparent;\n",
              "    border-bottom-color: var(--fill-color);\n",
              "    animation:\n",
              "      spin 1s steps(1) infinite;\n",
              "  }\n",
              "\n",
              "  @keyframes spin {\n",
              "    0% {\n",
              "      border-color: transparent;\n",
              "      border-bottom-color: var(--fill-color);\n",
              "      border-left-color: var(--fill-color);\n",
              "    }\n",
              "    20% {\n",
              "      border-color: transparent;\n",
              "      border-left-color: var(--fill-color);\n",
              "      border-top-color: var(--fill-color);\n",
              "    }\n",
              "    30% {\n",
              "      border-color: transparent;\n",
              "      border-left-color: var(--fill-color);\n",
              "      border-top-color: var(--fill-color);\n",
              "      border-right-color: var(--fill-color);\n",
              "    }\n",
              "    40% {\n",
              "      border-color: transparent;\n",
              "      border-right-color: var(--fill-color);\n",
              "      border-top-color: var(--fill-color);\n",
              "    }\n",
              "    60% {\n",
              "      border-color: transparent;\n",
              "      border-right-color: var(--fill-color);\n",
              "    }\n",
              "    80% {\n",
              "      border-color: transparent;\n",
              "      border-right-color: var(--fill-color);\n",
              "      border-bottom-color: var(--fill-color);\n",
              "    }\n",
              "    90% {\n",
              "      border-color: transparent;\n",
              "      border-bottom-color: var(--fill-color);\n",
              "    }\n",
              "  }\n",
              "</style>\n",
              "\n",
              "  <script>\n",
              "    async function quickchart(key) {\n",
              "      const quickchartButtonEl =\n",
              "        document.querySelector('#' + key + ' button');\n",
              "      quickchartButtonEl.disabled = true;  // To prevent multiple clicks.\n",
              "      quickchartButtonEl.classList.add('colab-df-spinner');\n",
              "      try {\n",
              "        const charts = await google.colab.kernel.invokeFunction(\n",
              "            'suggestCharts', [key], {});\n",
              "      } catch (error) {\n",
              "        console.error('Error during call to suggestCharts:', error);\n",
              "      }\n",
              "      quickchartButtonEl.classList.remove('colab-df-spinner');\n",
              "      quickchartButtonEl.classList.add('colab-df-quickchart-complete');\n",
              "    }\n",
              "    (() => {\n",
              "      let quickchartButtonEl =\n",
              "        document.querySelector('#df-abb4ee87-9e23-4d9b-9ffc-77677f08e794 button');\n",
              "      quickchartButtonEl.style.display =\n",
              "        google.colab.kernel.accessAllowed ? 'block' : 'none';\n",
              "    })();\n",
              "  </script>\n",
              "</div>\n",
              "\n",
              "  <div id=\"id_fb70a08e-d8a1-4cdb-a129-afcbd44c63b3\">\n",
              "    <style>\n",
              "      .colab-df-generate {\n",
              "        background-color: #E8F0FE;\n",
              "        border: none;\n",
              "        border-radius: 50%;\n",
              "        cursor: pointer;\n",
              "        display: none;\n",
              "        fill: #1967D2;\n",
              "        height: 32px;\n",
              "        padding: 0 0 0 0;\n",
              "        width: 32px;\n",
              "      }\n",
              "\n",
              "      .colab-df-generate:hover {\n",
              "        background-color: #E2EBFA;\n",
              "        box-shadow: 0px 1px 2px rgba(60, 64, 67, 0.3), 0px 1px 3px 1px rgba(60, 64, 67, 0.15);\n",
              "        fill: #174EA6;\n",
              "      }\n",
              "\n",
              "      [theme=dark] .colab-df-generate {\n",
              "        background-color: #3B4455;\n",
              "        fill: #D2E3FC;\n",
              "      }\n",
              "\n",
              "      [theme=dark] .colab-df-generate:hover {\n",
              "        background-color: #434B5C;\n",
              "        box-shadow: 0px 1px 3px 1px rgba(0, 0, 0, 0.15);\n",
              "        filter: drop-shadow(0px 1px 2px rgba(0, 0, 0, 0.3));\n",
              "        fill: #FFFFFF;\n",
              "      }\n",
              "    </style>\n",
              "    <button class=\"colab-df-generate\" onclick=\"generateWithVariable('df')\"\n",
              "            title=\"Generate code using this dataframe.\"\n",
              "            style=\"display:none;\">\n",
              "\n",
              "  <svg xmlns=\"http://www.w3.org/2000/svg\" height=\"24px\"viewBox=\"0 0 24 24\"\n",
              "       width=\"24px\">\n",
              "    <path d=\"M7,19H8.4L18.45,9,17,7.55,7,17.6ZM5,21V16.75L18.45,3.32a2,2,0,0,1,2.83,0l1.4,1.43a1.91,1.91,0,0,1,.58,1.4,1.91,1.91,0,0,1-.58,1.4L9.25,21ZM18.45,9,17,7.55Zm-12,3A5.31,5.31,0,0,0,4.9,8.1,5.31,5.31,0,0,0,1,6.5,5.31,5.31,0,0,0,4.9,4.9,5.31,5.31,0,0,0,6.5,1,5.31,5.31,0,0,0,8.1,4.9,5.31,5.31,0,0,0,12,6.5,5.46,5.46,0,0,0,6.5,12Z\"/>\n",
              "  </svg>\n",
              "    </button>\n",
              "    <script>\n",
              "      (() => {\n",
              "      const buttonEl =\n",
              "        document.querySelector('#id_fb70a08e-d8a1-4cdb-a129-afcbd44c63b3 button.colab-df-generate');\n",
              "      buttonEl.style.display =\n",
              "        google.colab.kernel.accessAllowed ? 'block' : 'none';\n",
              "\n",
              "      buttonEl.onclick = () => {\n",
              "        google.colab.notebook.generateWithVariable('df');\n",
              "      }\n",
              "      })();\n",
              "    </script>\n",
              "  </div>\n",
              "\n",
              "    </div>\n",
              "  </div>\n"
            ],
            "text/plain": [
              "          label                                               text\n",
              "0     Psoriasis  I have been experiencing a skin rash on my arm...\n",
              "1     Psoriasis  My skin has been peeling, especially on my kne...\n",
              "2     Psoriasis  I have been experiencing joint pain in my fing...\n",
              "3     Psoriasis  There is a silver like dusting on my skin, esp...\n",
              "4     Psoriasis  My nails have small dents or pits in them, and...\n",
              "...         ...                                                ...\n",
              "1195   diabetes  I'm shaking and trembling all over. I've lost ...\n",
              "1196   diabetes  Particularly in the crevices of my skin, I hav...\n",
              "1197   diabetes  I regularly experience these intense urges and...\n",
              "1198   diabetes  I have trouble breathing, especially outside. ...\n",
              "1199   diabetes  I constantly sneeze and have a dry cough. My i...\n",
              "\n",
              "[1200 rows x 2 columns]"
            ]
          },
          "execution_count": 55,
          "metadata": {},
          "output_type": "execute_result"
        }
      ],
      "source": [
        "#read data\n",
        "df = pd.read_csv(\"Symptom2Disease.csv\")\n",
        "df.drop(\"Unnamed: 0\",inplace=True,axis=1)\n",
        "df"
      ]
    },
    {
      "cell_type": "markdown",
      "metadata": {
        "id": "Ferb56n3OwCq"
      },
      "source": [
        "## Get to know about data."
      ]
    },
    {
      "cell_type": "code",
      "execution_count": null,
      "metadata": {
        "colab": {
          "base_uri": "https://localhost:8080/"
        },
        "execution": {
          "iopub.execute_input": "2023-11-05T17:57:27.119585Z",
          "iopub.status.busy": "2023-11-05T17:57:27.119204Z",
          "iopub.status.idle": "2023-11-05T17:57:27.132034Z",
          "shell.execute_reply": "2023-11-05T17:57:27.130402Z",
          "shell.execute_reply.started": "2023-11-05T17:57:27.119557Z"
        },
        "id": "eK4Zdq1nOwCr",
        "outputId": "4368fd5b-f32f-48ad-f189-f92fdbc589c2",
        "trusted": true
      },
      "outputs": [
        {
          "name": "stdout",
          "output_type": "stream",
          "text": [
            "<class 'pandas.core.frame.DataFrame'>\n",
            "RangeIndex: 1200 entries, 0 to 1199\n",
            "Data columns (total 2 columns):\n",
            " #   Column  Non-Null Count  Dtype \n",
            "---  ------  --------------  ----- \n",
            " 0   label   1200 non-null   object\n",
            " 1   text    1200 non-null   object\n",
            "dtypes: object(2)\n",
            "memory usage: 18.9+ KB\n"
          ]
        }
      ],
      "source": [
        "df.info()"
      ]
    },
    {
      "cell_type": "code",
      "execution_count": null,
      "metadata": {
        "colab": {
          "base_uri": "https://localhost:8080/"
        },
        "execution": {
          "iopub.execute_input": "2023-11-05T17:57:31.111068Z",
          "iopub.status.busy": "2023-11-05T17:57:31.110718Z",
          "iopub.status.idle": "2023-11-05T17:57:31.121245Z",
          "shell.execute_reply": "2023-11-05T17:57:31.119566Z",
          "shell.execute_reply.started": "2023-11-05T17:57:31.111043Z"
        },
        "id": "EaCC2m7ROwCr",
        "outputId": "8a772e63-a4e8-4706-c781-ba4fcc266b3c",
        "trusted": true
      },
      "outputs": [
        {
          "data": {
            "text/plain": [
              "label    0\n",
              "text     0\n",
              "dtype: int64"
            ]
          },
          "execution_count": 57,
          "metadata": {},
          "output_type": "execute_result"
        }
      ],
      "source": [
        "df.isnull().sum()"
      ]
    },
    {
      "cell_type": "code",
      "execution_count": null,
      "metadata": {
        "colab": {
          "base_uri": "https://localhost:8080/"
        },
        "execution": {
          "iopub.execute_input": "2023-11-05T17:57:31.379315Z",
          "iopub.status.busy": "2023-11-05T17:57:31.378715Z",
          "iopub.status.idle": "2023-11-05T17:57:31.386705Z",
          "shell.execute_reply": "2023-11-05T17:57:31.385564Z",
          "shell.execute_reply.started": "2023-11-05T17:57:31.379288Z"
        },
        "id": "Q8JmkyoTOwCr",
        "outputId": "707916d9-b462-4bbe-ad0c-9240886eb4cf",
        "trusted": true
      },
      "outputs": [
        {
          "name": "stdout",
          "output_type": "stream",
          "text": [
            "label :  ['Psoriasis' 'Varicose Veins' 'Typhoid' 'Chicken pox' 'Impetigo' 'Dengue'\n",
            " 'Fungal infection' 'Common Cold' 'Pneumonia' 'Dimorphic Hemorrhoids'\n",
            " 'Arthritis' 'Acne' 'Bronchial Asthma' 'Hypertension' 'Migraine'\n",
            " 'Cervical spondylosis' 'Jaundice' 'Malaria' 'urinary tract infection'\n",
            " 'allergy' 'gastroesophageal reflux disease' 'drug reaction'\n",
            " 'peptic ulcer disease' 'diabetes'] \n",
            "\n",
            "text :  ['I have been experiencing a skin rash on my arms, legs, and torso for the past few weeks. It is red, itchy, and covered in dry, scaly patches.'\n",
            " 'My skin has been peeling, especially on my knees, elbows, and scalp. This peeling is often accompanied by a burning or stinging sensation.'\n",
            " 'I have been experiencing joint pain in my fingers, wrists, and knees. The pain is often achy and throbbing, and it gets worse when I move my joints.'\n",
            " ...\n",
            " \"I regularly experience these intense urges and the want to urinate. I frequently feel drowsy and lost. I've also significantly lost my vision.\"\n",
            " 'I have trouble breathing, especially outside. I start to feel hot and start to sweat. I frequently have urinary tract infections and yeast infections.'\n",
            " \"I constantly sneeze and have a dry cough. My infections don't seem to be healing, and I have palpitations. My throat does ache occasionally, but it usually gets better.\"] \n",
            "\n"
          ]
        }
      ],
      "source": [
        "for col in df.columns:\n",
        "    print(col,\": \",df[col].unique(),\"\\n\")"
      ]
    },
    {
      "cell_type": "markdown",
      "metadata": {
        "execution": {
          "iopub.execute_input": "2023-10-31T16:34:01.306084Z",
          "iopub.status.busy": "2023-10-31T16:34:01.305651Z",
          "iopub.status.idle": "2023-10-31T16:34:01.313378Z",
          "shell.execute_reply": "2023-10-31T16:34:01.311747Z",
          "shell.execute_reply.started": "2023-10-31T16:34:01.306053Z"
        },
        "id": "Azoz0vXVOwCr"
      },
      "source": [
        "## Lets clean data"
      ]
    },
    {
      "cell_type": "code",
      "execution_count": null,
      "metadata": {
        "colab": {
          "base_uri": "https://localhost:8080/"
        },
        "execution": {
          "iopub.execute_input": "2023-11-05T17:57:38.296202Z",
          "iopub.status.busy": "2023-11-05T17:57:38.295809Z",
          "iopub.status.idle": "2023-11-05T17:57:38.30376Z",
          "shell.execute_reply": "2023-11-05T17:57:38.30271Z",
          "shell.execute_reply.started": "2023-11-05T17:57:38.296141Z"
        },
        "id": "M-Ghel9jOwCr",
        "outputId": "1d7b2aac-8fd8-4512-c9d2-421d10b29fd5",
        "trusted": true
      },
      "outputs": [
        {
          "name": "stderr",
          "output_type": "stream",
          "text": [
            "[nltk_data] Downloading package punkt to /root/nltk_data...\n",
            "[nltk_data]   Package punkt is already up-to-date!\n",
            "[nltk_data] Downloading package stopwords to /root/nltk_data...\n",
            "[nltk_data]   Package stopwords is already up-to-date!\n"
          ]
        },
        {
          "data": {
            "text/plain": [
              "True"
            ]
          },
          "execution_count": 59,
          "metadata": {},
          "output_type": "execute_result"
        }
      ],
      "source": [
        "nltk.download('punkt')\n",
        "nltk.download('stopwords')"
      ]
    },
    {
      "cell_type": "code",
      "execution_count": null,
      "metadata": {
        "execution": {
          "iopub.execute_input": "2023-11-05T17:57:50.695337Z",
          "iopub.status.busy": "2023-11-05T17:57:50.694926Z",
          "iopub.status.idle": "2023-11-05T17:57:50.700271Z",
          "shell.execute_reply": "2023-11-05T17:57:50.69945Z",
          "shell.execute_reply.started": "2023-11-05T17:57:50.695304Z"
        },
        "id": "YRyg_d6yOwCs",
        "trusted": true
      },
      "outputs": [],
      "source": [
        "#set of English stop words\n",
        "stop_words = set(stopwords.words('english'))"
      ]
    },
    {
      "cell_type": "code",
      "execution_count": null,
      "metadata": {
        "execution": {
          "iopub.execute_input": "2023-11-05T18:00:10.898821Z",
          "iopub.status.busy": "2023-11-05T18:00:10.898446Z",
          "iopub.status.idle": "2023-11-05T18:00:10.904993Z",
          "shell.execute_reply": "2023-11-05T18:00:10.903917Z",
          "shell.execute_reply.started": "2023-11-05T18:00:10.898791Z"
        },
        "id": "qribRGxNOwCs",
        "trusted": true
      },
      "outputs": [],
      "source": [
        "def clean_text(sent):\n",
        "    #remove punctuations\n",
        "    sent = sent.translate(str.maketrans('','',string.punctuation)).strip()\n",
        "\n",
        "    #remove stopwords\n",
        "    stop_words = set(stopwords.words('english'))\n",
        "    words = word_tokenize(sent)\n",
        "    words = [word for word in words if word not in stop_words]\n",
        "\n",
        "    return \" \".join(words).lower()"
      ]
    },
    {
      "cell_type": "code",
      "execution_count": null,
      "metadata": {
        "execution": {
          "iopub.execute_input": "2023-11-05T18:00:46.05434Z",
          "iopub.status.busy": "2023-11-05T18:00:46.053932Z",
          "iopub.status.idle": "2023-11-05T18:00:46.428904Z",
          "shell.execute_reply": "2023-11-05T18:00:46.427303Z",
          "shell.execute_reply.started": "2023-11-05T18:00:46.05431Z"
        },
        "id": "77UTWa1cOwCs",
        "trusted": true
      },
      "outputs": [],
      "source": [
        "# apply clean_text on text column of df\n",
        "df[\"text\"] = df[\"text\"].apply(clean_text)"
      ]
    },
    {
      "cell_type": "code",
      "execution_count": null,
      "metadata": {},
      "outputs": [],
      "source": [
        "# create word cloud to vizualize frequent words in our dataset\n",
        "all_text = \" \".join(df[\"text\"])\n",
        "wordcloud = WordCloud(width=800, height=400, background_color='white').generate(all_text)\n",
        "\n",
        "\n",
        "# Plotting Word Cloud\n",
        "plt.figure(figsize=(10, 5))\n",
        "plt.imshow(wordcloud, interpolation='bilinear')\n",
        "plt.axis('off')\n",
        "plt.show()"
      ]
    },
    {
      "cell_type": "markdown",
      "metadata": {
        "id": "j8Li3sFDOwCs"
      },
      "source": [
        "Vizualize text content"
      ]
    },
    {
      "cell_type": "code",
      "execution_count": null,
      "metadata": {
        "execution": {
          "iopub.execute_input": "2023-11-05T18:01:38.166488Z",
          "iopub.status.busy": "2023-11-05T18:01:38.166023Z",
          "iopub.status.idle": "2023-11-05T18:01:38.173889Z",
          "shell.execute_reply": "2023-11-05T18:01:38.172655Z",
          "shell.execute_reply.started": "2023-11-05T18:01:38.166452Z"
        },
        "id": "ogRrCburOwCt",
        "trusted": true
      },
      "outputs": [],
      "source": [
        "#Split data into train and test set\n",
        "X_train, X_test, y_train, y_test = train_test_split(df[\"text\"], df[\"label\"], test_size=0.2, random_state=42)"
      ]
    },
    {
      "cell_type": "markdown",
      "metadata": {
        "id": "c74ZzCEeOwCt"
      },
      "source": [
        "### Text Vectorization\n",
        "Here we will use Term Frequency Inverse Document Frequence(TF-IDF) method to vectorize disease symptoms description."
      ]
    },
    {
      "cell_type": "code",
      "execution_count": null,
      "metadata": {
        "execution": {
          "iopub.execute_input": "2023-11-05T18:03:00.527269Z",
          "iopub.status.busy": "2023-11-05T18:03:00.526907Z",
          "iopub.status.idle": "2023-11-05T18:03:00.57405Z",
          "shell.execute_reply": "2023-11-05T18:03:00.57308Z",
          "shell.execute_reply.started": "2023-11-05T18:03:00.527239Z"
        },
        "id": "fxqCruY0OwCt",
        "trusted": true
      },
      "outputs": [],
      "source": [
        "# use tfidf for text vectorization\n",
        "tfidf_vectorizer = TfidfVectorizer(max_features=1500)\n",
        "\n",
        "tfidf_train = tfidf_vectorizer.fit_transform(X_train).toarray()\n",
        "tfidf_test = tfidf_vectorizer.transform(X_test).toarray()"
      ]
    },
    {
      "cell_type": "markdown",
      "metadata": {
        "id": "BnDhgFeSOwCt"
      },
      "source": [
        "### Model Selection"
      ]
    },
    {
      "cell_type": "code",
      "execution_count": null,
      "metadata": {
        "colab": {
          "base_uri": "https://localhost:8080/",
          "height": 75
        },
        "execution": {
          "iopub.execute_input": "2023-11-05T18:03:39.558396Z",
          "iopub.status.busy": "2023-11-05T18:03:39.558006Z",
          "iopub.status.idle": "2023-11-05T18:03:39.566261Z",
          "shell.execute_reply": "2023-11-05T18:03:39.565597Z",
          "shell.execute_reply.started": "2023-11-05T18:03:39.558365Z"
        },
        "id": "p_WmynBnOwCt",
        "outputId": "b741e958-034c-4ca9-a7fc-69cedfc8c219",
        "trusted": true
      },
      "outputs": [
        {
          "data": {
            "text/html": [
              "<style>#sk-container-id-3 {color: black;background-color: white;}#sk-container-id-3 pre{padding: 0;}#sk-container-id-3 div.sk-toggleable {background-color: white;}#sk-container-id-3 label.sk-toggleable__label {cursor: pointer;display: block;width: 100%;margin-bottom: 0;padding: 0.3em;box-sizing: border-box;text-align: center;}#sk-container-id-3 label.sk-toggleable__label-arrow:before {content: \"▸\";float: left;margin-right: 0.25em;color: #696969;}#sk-container-id-3 label.sk-toggleable__label-arrow:hover:before {color: black;}#sk-container-id-3 div.sk-estimator:hover label.sk-toggleable__label-arrow:before {color: black;}#sk-container-id-3 div.sk-toggleable__content {max-height: 0;max-width: 0;overflow: hidden;text-align: left;background-color: #f0f8ff;}#sk-container-id-3 div.sk-toggleable__content pre {margin: 0.2em;color: black;border-radius: 0.25em;background-color: #f0f8ff;}#sk-container-id-3 input.sk-toggleable__control:checked~div.sk-toggleable__content {max-height: 200px;max-width: 100%;overflow: auto;}#sk-container-id-3 input.sk-toggleable__control:checked~label.sk-toggleable__label-arrow:before {content: \"▾\";}#sk-container-id-3 div.sk-estimator input.sk-toggleable__control:checked~label.sk-toggleable__label {background-color: #d4ebff;}#sk-container-id-3 div.sk-label input.sk-toggleable__control:checked~label.sk-toggleable__label {background-color: #d4ebff;}#sk-container-id-3 input.sk-hidden--visually {border: 0;clip: rect(1px 1px 1px 1px);clip: rect(1px, 1px, 1px, 1px);height: 1px;margin: -1px;overflow: hidden;padding: 0;position: absolute;width: 1px;}#sk-container-id-3 div.sk-estimator {font-family: monospace;background-color: #f0f8ff;border: 1px dotted black;border-radius: 0.25em;box-sizing: border-box;margin-bottom: 0.5em;}#sk-container-id-3 div.sk-estimator:hover {background-color: #d4ebff;}#sk-container-id-3 div.sk-parallel-item::after {content: \"\";width: 100%;border-bottom: 1px solid gray;flex-grow: 1;}#sk-container-id-3 div.sk-label:hover label.sk-toggleable__label {background-color: #d4ebff;}#sk-container-id-3 div.sk-serial::before {content: \"\";position: absolute;border-left: 1px solid gray;box-sizing: border-box;top: 0;bottom: 0;left: 50%;z-index: 0;}#sk-container-id-3 div.sk-serial {display: flex;flex-direction: column;align-items: center;background-color: white;padding-right: 0.2em;padding-left: 0.2em;position: relative;}#sk-container-id-3 div.sk-item {position: relative;z-index: 1;}#sk-container-id-3 div.sk-parallel {display: flex;align-items: stretch;justify-content: center;background-color: white;position: relative;}#sk-container-id-3 div.sk-item::before, #sk-container-id-3 div.sk-parallel-item::before {content: \"\";position: absolute;border-left: 1px solid gray;box-sizing: border-box;top: 0;bottom: 0;left: 50%;z-index: -1;}#sk-container-id-3 div.sk-parallel-item {display: flex;flex-direction: column;z-index: 1;position: relative;background-color: white;}#sk-container-id-3 div.sk-parallel-item:first-child::after {align-self: flex-end;width: 50%;}#sk-container-id-3 div.sk-parallel-item:last-child::after {align-self: flex-start;width: 50%;}#sk-container-id-3 div.sk-parallel-item:only-child::after {width: 0;}#sk-container-id-3 div.sk-dashed-wrapped {border: 1px dashed gray;margin: 0 0.4em 0.5em 0.4em;box-sizing: border-box;padding-bottom: 0.4em;background-color: white;}#sk-container-id-3 div.sk-label label {font-family: monospace;font-weight: bold;display: inline-block;line-height: 1.2em;}#sk-container-id-3 div.sk-label-container {text-align: center;}#sk-container-id-3 div.sk-container {/* jupyter's `normalize.less` sets `[hidden] { display: none; }` but bootstrap.min.css set `[hidden] { display: none !important; }` so we also need the `!important` here to be able to override the default hidden behavior on the sphinx rendered scikit-learn.org. See: https://github.com/scikit-learn/scikit-learn/issues/21755 */display: inline-block !important;position: relative;}#sk-container-id-3 div.sk-text-repr-fallback {display: none;}</style><div id=\"sk-container-id-3\" class=\"sk-top-container\"><div class=\"sk-text-repr-fallback\"><pre>KNeighborsClassifier()</pre><b>In a Jupyter environment, please rerun this cell to show the HTML representation or trust the notebook. <br />On GitHub, the HTML representation is unable to render, please try loading this page with nbviewer.org.</b></div><div class=\"sk-container\" hidden><div class=\"sk-item\"><div class=\"sk-estimator sk-toggleable\"><input class=\"sk-toggleable__control sk-hidden--visually\" id=\"sk-estimator-id-3\" type=\"checkbox\" checked><label for=\"sk-estimator-id-3\" class=\"sk-toggleable__label sk-toggleable__label-arrow\">KNeighborsClassifier</label><div class=\"sk-toggleable__content\"><pre>KNeighborsClassifier()</pre></div></div></div></div></div>"
            ],
            "text/plain": [
              "KNeighborsClassifier()"
            ]
          },
          "execution_count": 66,
          "metadata": {},
          "output_type": "execute_result"
        }
      ],
      "source": [
        "# knn will be our first model\n",
        "knn = KNeighborsClassifier(n_neighbors=5)\n",
        "knn.fit(tfidf_train, y_train)"
      ]
    },
    {
      "cell_type": "code",
      "execution_count": null,
      "metadata": {
        "execution": {
          "iopub.execute_input": "2023-11-05T18:03:41.414629Z",
          "iopub.status.busy": "2023-11-05T18:03:41.414311Z",
          "iopub.status.idle": "2023-11-05T18:03:41.493135Z",
          "shell.execute_reply": "2023-11-05T18:03:41.492201Z",
          "shell.execute_reply.started": "2023-11-05T18:03:41.414606Z"
        },
        "id": "KoYkQLprOwCt",
        "trusted": true
      },
      "outputs": [],
      "source": [
        "predictions = knn.predict(tfidf_test)"
      ]
    },
    {
      "cell_type": "code",
      "execution_count": null,
      "metadata": {
        "execution": {
          "iopub.execute_input": "2023-11-05T18:03:54.901079Z",
          "iopub.status.busy": "2023-11-05T18:03:54.900729Z",
          "iopub.status.idle": "2023-11-05T18:03:54.907867Z",
          "shell.execute_reply": "2023-11-05T18:03:54.906221Z",
          "shell.execute_reply.started": "2023-11-05T18:03:54.901055Z"
        },
        "id": "BLzBhuWKOwCt",
        "trusted": true
      },
      "outputs": [],
      "source": [
        "def report(y_test,predictions):\n",
        "    \"\"\"Function to create classification report\"\"\"\n",
        "    accuracy = accuracy_score(y_test, predictions)\n",
        "    print(f'Accuracy: {accuracy:.2f}')\n",
        "    print(classification_report(y_test, predictions))"
      ]
    },
    {
      "cell_type": "code",
      "execution_count": null,
      "metadata": {
        "colab": {
          "base_uri": "https://localhost:8080/"
        },
        "execution": {
          "iopub.execute_input": "2023-11-05T18:03:57.837938Z",
          "iopub.status.busy": "2023-11-05T18:03:57.83753Z",
          "iopub.status.idle": "2023-11-05T18:03:57.863736Z",
          "shell.execute_reply": "2023-11-05T18:03:57.862042Z",
          "shell.execute_reply.started": "2023-11-05T18:03:57.837909Z"
        },
        "id": "0Zt9pg9UOwCt",
        "outputId": "03d600af-81fc-4b15-c44f-b427eca10a02",
        "trusted": true
      },
      "outputs": [
        {
          "name": "stdout",
          "output_type": "stream",
          "text": [
            "Accuracy: 0.97\n",
            "                                 precision    recall  f1-score   support\n",
            "\n",
            "                           Acne       1.00      1.00      1.00         7\n",
            "                      Arthritis       1.00      1.00      1.00        10\n",
            "               Bronchial Asthma       0.92      1.00      0.96        11\n",
            "           Cervical spondylosis       1.00      1.00      1.00         7\n",
            "                    Chicken pox       0.85      0.92      0.88        12\n",
            "                    Common Cold       1.00      0.92      0.96        12\n",
            "                         Dengue       0.79      0.92      0.85        12\n",
            "          Dimorphic Hemorrhoids       1.00      1.00      1.00         7\n",
            "               Fungal infection       1.00      1.00      1.00        13\n",
            "                   Hypertension       1.00      1.00      1.00        10\n",
            "                       Impetigo       1.00      1.00      1.00        11\n",
            "                       Jaundice       1.00      1.00      1.00        11\n",
            "                        Malaria       1.00      1.00      1.00        11\n",
            "                       Migraine       1.00      1.00      1.00        10\n",
            "                      Pneumonia       1.00      1.00      1.00        11\n",
            "                      Psoriasis       1.00      0.83      0.91         6\n",
            "                        Typhoid       1.00      0.89      0.94         9\n",
            "                 Varicose Veins       1.00      1.00      1.00        12\n",
            "                        allergy       0.92      1.00      0.96        12\n",
            "                       diabetes       1.00      1.00      1.00         8\n",
            "                  drug reaction       1.00      0.80      0.89         5\n",
            "gastroesophageal reflux disease       0.92      1.00      0.96        11\n",
            "           peptic ulcer disease       1.00      0.82      0.90        11\n",
            "        urinary tract infection       1.00      1.00      1.00        11\n",
            "\n",
            "                       accuracy                           0.97       240\n",
            "                      macro avg       0.97      0.96      0.97       240\n",
            "                   weighted avg       0.97      0.97      0.97       240\n",
            "\n"
          ]
        }
      ],
      "source": [
        "report(y_test,predictions)"
      ]
    },
    {
      "cell_type": "code",
      "execution_count": null,
      "metadata": {
        "execution": {
          "iopub.execute_input": "2023-11-05T18:04:24.873448Z",
          "iopub.status.busy": "2023-11-05T18:04:24.873076Z",
          "iopub.status.idle": "2023-11-05T18:04:24.878736Z",
          "shell.execute_reply": "2023-11-05T18:04:24.877969Z",
          "shell.execute_reply.started": "2023-11-05T18:04:24.873422Z"
        },
        "id": "Qyn3-uCgOwCt",
        "trusted": true
      },
      "outputs": [],
      "source": [
        "def make_pred(model,text):\n",
        "    \"\"\"Function to make prediction on single data instance\"\"\"\n",
        "    text = clean_text(text)\n",
        "    tfidf = tfidf_vectorizer.transform([text]).toarray()\n",
        "    disease = model.predict(tfidf)\n",
        "\n",
        "    return disease[0]"
      ]
    },
    {
      "cell_type": "markdown",
      "metadata": {
        "id": "P21Gd8XUOwCt"
      },
      "source": [
        "Let's try our model on some real data examples."
      ]
    },
    {
      "cell_type": "code",
      "execution_count": null,
      "metadata": {
        "colab": {
          "base_uri": "https://localhost:8080/",
          "height": 35
        },
        "execution": {
          "iopub.execute_input": "2023-11-05T18:05:08.341513Z",
          "iopub.status.busy": "2023-11-05T18:05:08.341133Z",
          "iopub.status.idle": "2023-11-05T18:05:08.35724Z",
          "shell.execute_reply": "2023-11-05T18:05:08.355791Z",
          "shell.execute_reply.started": "2023-11-05T18:05:08.341486Z"
        },
        "id": "ioz1SyblOwCu",
        "outputId": "3ab9eff1-0494-477d-e23f-88e5dc8db43d",
        "trusted": true
      },
      "outputs": [
        {
          "data": {
            "application/vnd.google.colaboratory.intrinsic+json": {
              "type": "string"
            },
            "text/plain": [
              "'Jaundice'"
            ]
          },
          "execution_count": 71,
          "metadata": {},
          "output_type": "execute_result"
        }
      ],
      "source": [
        "symp1 = \"Yellowing of skin and eyes, fatigue\"\n",
        "make_pred(knn,symp1)"
      ]
    },
    {
      "cell_type": "code",
      "execution_count": null,
      "metadata": {
        "colab": {
          "base_uri": "https://localhost:8080/",
          "height": 35
        },
        "execution": {
          "iopub.execute_input": "2023-11-05T18:05:09.211097Z",
          "iopub.status.busy": "2023-11-05T18:05:09.210169Z",
          "iopub.status.idle": "2023-11-05T18:05:09.221863Z",
          "shell.execute_reply": "2023-11-05T18:05:09.22118Z",
          "shell.execute_reply.started": "2023-11-05T18:05:09.211063Z"
        },
        "id": "14IrG6cbOwCu",
        "outputId": "141c0983-aac8-4d9c-df9a-607d79d0ab7d",
        "trusted": true
      },
      "outputs": [
        {
          "data": {
            "application/vnd.google.colaboratory.intrinsic+json": {
              "type": "string"
            },
            "text/plain": [
              "'Dengue'"
            ]
          },
          "execution_count": 72,
          "metadata": {},
          "output_type": "execute_result"
        }
      ],
      "source": [
        "symp2 = \"I noticed a sudden onset of high fever, along with a rash on my skin and severe pain behind my eyes.\"\n",
        "make_pred(knn, symp2)"
      ]
    },
    {
      "cell_type": "code",
      "execution_count": null,
      "metadata": {
        "execution": {
          "iopub.execute_input": "2023-11-05T18:05:09.497337Z",
          "iopub.status.busy": "2023-11-05T18:05:09.496899Z",
          "iopub.status.idle": "2023-11-05T18:05:09.50609Z",
          "shell.execute_reply": "2023-11-05T18:05:09.50446Z",
          "shell.execute_reply.started": "2023-11-05T18:05:09.497301Z"
        },
        "id": "dFQoGNoLOwCu",
        "trusted": true
      },
      "outputs": [],
      "source": [
        "# some custom symptoms generated by Chat GPT\n",
        "cust_symptoms = {\n",
        "    'Psoriasis': [\"I have itchy, scaly patches of skin that can be painful.\", \"My skin is red, inflamed, and covered in silvery scales.\"],\n",
        "    'Varicose Veins': [\"I've noticed swollen and twisted veins in my legs.\", \"My legs feel heavy and achy, and I have a throbbing or burning sensation.\"],\n",
        "    'Typhoid': [\"I have a high fever, abdominal pain, and a headache.\", \"I've experienced weakness, fatigue, and a loss of appetite.\"],\n",
        "    'Chickenpox': [\"I have itchy, red spots and blisters all over my body.\", \"I've had a fever and a general feeling of being unwell.\"],\n",
        "    'Impetigo': [\"I have red sores on my face that have turned into honey-colored crusts.\", \"I've experienced itching and oozing from these sores.\"],\n",
        "    'Dengue': [\"I've been feeling incredibly weak, with a high fever, severe headache, and excruciating joint and muscle pain.\", \"I noticed a sudden onset of high fever, along with a rash on my skin and severe pain behind my eyes.\"],\n",
        "    'Fungal infection': [\"I have red, itchy rashes on my skin or nails.\", \"My skin is peeling, cracking, or oozing, and my nails may become discolored or brittle.\"],\n",
        "    'Common Cold': [\"I have a runny or stuffy nose, coughing, sneezing, and a sore throat.\", \"I also feel tired, with a mild headache and a low-grade fever.\"],\n",
        "    'Pneumonia': [\"I've been coughing with yellow, green, or bloody mucus.\", \"I have a high fever, chills, and shortness of breath.\"],\n",
        "    'Dimorphic Hemorrhoids': [\"I have painful lumps around my anus.\", \"I've experienced bleeding during bowel movements and anal itching.\"],\n",
        "    'Arthritis': [\"I have joint pain, stiffness, and swelling.\", \"My joints are often red and warm to the touch.\"],\n",
        "    'Acne': [\"I'm getting frequent pimples, blackheads, and whiteheads.\", \"Sometimes I get big, red zits that hurt, and my skin is oily and easily irritated.\"],\n",
        "    'Bronchial Asthma': [\"I've been wheezing, coughing, and experiencing shortness of breath.\", \"My chest feels tight and I have difficulty breathing.\"],\n",
        "    'Hypertension': [\"I have high blood pressure, with no noticeable symptoms.\", \"Sometimes I get headaches and experience nosebleeds.\"],\n",
        "    'Migraine': [\"I have severe, throbbing headaches, often on one side of my head.\", \"I'm sensitive to light, sound, and sometimes experience nausea and vomiting.\"],\n",
        "    'Cervical spondylosis': [\"I have neck pain and stiffness, which can radiate to my shoulders and arms.\", \"I may also experience numbness or weakness in my extremities.\"],\n",
        "    'Jaundice': [\"I have yellowing of the skin and eyes.\", \"I've experienced fatigue, dark urine, and pale-colored stools.\"],\n",
        "    'Malaria': [\"I have recurring high fevers with chills and sweating.\", \"I experience fatigue, headache, and muscle aches.\"],\n",
        "    'Urinary tract infection': [\"I have a frequent urge to urinate, with a burning sensation.\", \"My urine is cloudy, dark, or has a strong odor.\"],\n",
        "    'Allergy': [\"I have sneezing, runny or stuffy nose, and itchy or watery eyes.\", \"I may also experience skin rashes or hives.\"],\n",
        "    'Gastroesophageal reflux disease': [\"I have heartburn, regurgitation of stomach acid, and a sour taste in my mouth.\", \"I may also experience chest pain or difficulty swallowing.\"],\n",
        "    'Drug reaction': [\"I've developed a rash, itching, or hives after taking a medication.\", \"I may also experience swelling of the face, lips, or tongue.\"],\n",
        "    'Peptic ulcer disease': [\"I have burning or gnawing abdominal pain, often between meals and at night.\", \"I may also experience bloating, burping, and nausea.\"],\n",
        "    'Diabetes': [\"I've been experiencing excessive thirst, frequent urination, and unexplained weight loss.\", \"I may also have blurred vision, fatigue, and slow-healing sores.\"],\n",
        "}\n"
      ]
    },
    {
      "cell_type": "code",
      "execution_count": null,
      "metadata": {
        "execution": {
          "iopub.execute_input": "2023-11-05T18:05:13.691104Z",
          "iopub.status.busy": "2023-11-05T18:05:13.690768Z",
          "iopub.status.idle": "2023-11-05T18:05:13.697475Z",
          "shell.execute_reply": "2023-11-05T18:05:13.696082Z",
          "shell.execute_reply.started": "2023-11-05T18:05:13.691077Z"
        },
        "id": "BxrIQerDOwCu",
        "trusted": true
      },
      "outputs": [],
      "source": [
        "def custom_test(model):\n",
        "    c = 0\n",
        "    correct_count = 0\n",
        "    for dis,symptoms in cust_symptoms.items():\n",
        "        for symptom in symptoms:\n",
        "            c += 1\n",
        "            pred = make_pred(model,symptom)\n",
        "            correct = pred.lower()==dis.lower()\n",
        "            if correct: correct_count += 1\n",
        "            print(\"Actual: \",dis,\"\\t Pred: \",pred,\"--\",correct)\n",
        "\n",
        "    print(\"\\nTotal: \",c,\"\\nCorrect: \",correct_count)"
      ]
    },
    {
      "cell_type": "code",
      "execution_count": null,
      "metadata": {
        "colab": {
          "base_uri": "https://localhost:8080/"
        },
        "execution": {
          "iopub.execute_input": "2023-11-05T18:05:15.681019Z",
          "iopub.status.busy": "2023-11-05T18:05:15.680069Z",
          "iopub.status.idle": "2023-11-05T18:05:15.865654Z",
          "shell.execute_reply": "2023-11-05T18:05:15.864994Z",
          "shell.execute_reply.started": "2023-11-05T18:05:15.680986Z"
        },
        "id": "mZL7tNODOwCu",
        "outputId": "de999d88-1af6-4079-8f1d-a5ac1c4f181a",
        "trusted": true
      },
      "outputs": [
        {
          "name": "stdout",
          "output_type": "stream",
          "text": [
            "Actual:  Psoriasis \t Pred:  Fungal infection -- False\n",
            "Actual:  Psoriasis \t Pred:  Psoriasis -- True\n",
            "Actual:  Varicose Veins \t Pred:  Varicose Veins -- True\n",
            "Actual:  Varicose Veins \t Pred:  Common Cold -- False\n",
            "Actual:  Typhoid \t Pred:  Jaundice -- False\n",
            "Actual:  Typhoid \t Pred:  Cervical spondylosis -- False\n",
            "Actual:  Chickenpox \t Pred:  Chicken pox -- False\n",
            "Actual:  Chickenpox \t Pred:  Malaria -- False\n",
            "Actual:  Impetigo \t Pred:  Impetigo -- True\n",
            "Actual:  Impetigo \t Pred:  Impetigo -- True\n",
            "Actual:  Dengue \t Pred:  Malaria -- False\n",
            "Actual:  Dengue \t Pred:  Dengue -- True\n",
            "Actual:  Fungal infection \t Pred:  Psoriasis -- False\n",
            "Actual:  Fungal infection \t Pred:  Psoriasis -- False\n",
            "Actual:  Common Cold \t Pred:  Common Cold -- True\n",
            "Actual:  Common Cold \t Pred:  Chicken pox -- False\n",
            "Actual:  Pneumonia \t Pred:  Pneumonia -- True\n",
            "Actual:  Pneumonia \t Pred:  Bronchial Asthma -- False\n",
            "Actual:  Dimorphic Hemorrhoids \t Pred:  Dimorphic Hemorrhoids -- True\n",
            "Actual:  Dimorphic Hemorrhoids \t Pred:  Dimorphic Hemorrhoids -- True\n",
            "Actual:  Arthritis \t Pred:  Arthritis -- True\n",
            "Actual:  Arthritis \t Pred:  Chicken pox -- False\n",
            "Actual:  Acne \t Pred:  Acne -- True\n",
            "Actual:  Acne \t Pred:  Fungal infection -- False\n",
            "Actual:  Bronchial Asthma \t Pred:  Bronchial Asthma -- True\n",
            "Actual:  Bronchial Asthma \t Pred:  Arthritis -- False\n",
            "Actual:  Hypertension \t Pred:  Varicose Veins -- False\n",
            "Actual:  Hypertension \t Pred:  drug reaction -- False\n",
            "Actual:  Migraine \t Pred:  Common Cold -- False\n",
            "Actual:  Migraine \t Pred:  Malaria -- False\n",
            "Actual:  Cervical spondylosis \t Pred:  Cervical spondylosis -- True\n",
            "Actual:  Cervical spondylosis \t Pred:  Cervical spondylosis -- True\n",
            "Actual:  Jaundice \t Pred:  Psoriasis -- False\n",
            "Actual:  Jaundice \t Pred:  Jaundice -- True\n",
            "Actual:  Malaria \t Pred:  Malaria -- True\n",
            "Actual:  Malaria \t Pred:  Dengue -- False\n",
            "Actual:  Urinary tract infection \t Pred:  urinary tract infection -- True\n",
            "Actual:  Urinary tract infection \t Pred:  Jaundice -- False\n",
            "Actual:  Allergy \t Pred:  allergy -- True\n",
            "Actual:  Allergy \t Pred:  drug reaction -- False\n",
            "Actual:  Gastroesophageal reflux disease \t Pred:  gastroesophageal reflux disease -- True\n",
            "Actual:  Gastroesophageal reflux disease \t Pred:  Hypertension -- False\n",
            "Actual:  Drug reaction \t Pred:  Impetigo -- False\n",
            "Actual:  Drug reaction \t Pred:  allergy -- False\n",
            "Actual:  Peptic ulcer disease \t Pred:  peptic ulcer disease -- True\n",
            "Actual:  Peptic ulcer disease \t Pred:  Malaria -- False\n",
            "Actual:  Diabetes \t Pred:  Jaundice -- False\n",
            "Actual:  Diabetes \t Pred:  Migraine -- False\n",
            "\n",
            "Total:  48 \n",
            "Correct:  20\n"
          ]
        }
      ],
      "source": [
        "custom_test(knn)"
      ]
    },
    {
      "cell_type": "markdown",
      "metadata": {
        "id": "EFKsZ5zKOwCu"
      },
      "source": [
        "### SVM"
      ]
    },
    {
      "cell_type": "code",
      "execution_count": null,
      "metadata": {
        "execution": {
          "iopub.execute_input": "2023-11-05T18:05:18.378075Z",
          "iopub.status.busy": "2023-11-05T18:05:18.376864Z",
          "iopub.status.idle": "2023-11-05T18:05:18.911675Z",
          "shell.execute_reply": "2023-11-05T18:05:18.910231Z",
          "shell.execute_reply.started": "2023-11-05T18:05:18.378041Z"
        },
        "id": "HmnSquCNOwCu",
        "trusted": true
      },
      "outputs": [],
      "source": [
        "svm = SVC(kernel = 'linear', C = 1).fit(tfidf_train, y_train)\n",
        "svm_pred = svm.predict(tfidf_test)"
      ]
    },
    {
      "cell_type": "code",
      "execution_count": null,
      "metadata": {
        "colab": {
          "base_uri": "https://localhost:8080/"
        },
        "execution": {
          "iopub.execute_input": "2023-11-05T18:05:19.642462Z",
          "iopub.status.busy": "2023-11-05T18:05:19.642073Z",
          "iopub.status.idle": "2023-11-05T18:05:19.662782Z",
          "shell.execute_reply": "2023-11-05T18:05:19.661446Z",
          "shell.execute_reply.started": "2023-11-05T18:05:19.642435Z"
        },
        "id": "RGsNjZ_DOwCu",
        "outputId": "bc53c618-cfa0-4608-f181-9c87d2eb7942",
        "trusted": true
      },
      "outputs": [
        {
          "name": "stdout",
          "output_type": "stream",
          "text": [
            "Accuracy: 0.99\n",
            "                                 precision    recall  f1-score   support\n",
            "\n",
            "                           Acne       1.00      1.00      1.00         7\n",
            "                      Arthritis       1.00      1.00      1.00        10\n",
            "               Bronchial Asthma       1.00      1.00      1.00        11\n",
            "           Cervical spondylosis       1.00      1.00      1.00         7\n",
            "                    Chicken pox       0.92      0.92      0.92        12\n",
            "                    Common Cold       1.00      1.00      1.00        12\n",
            "                         Dengue       0.92      0.92      0.92        12\n",
            "          Dimorphic Hemorrhoids       1.00      1.00      1.00         7\n",
            "               Fungal infection       1.00      1.00      1.00        13\n",
            "                   Hypertension       1.00      1.00      1.00        10\n",
            "                       Impetigo       1.00      1.00      1.00        11\n",
            "                       Jaundice       1.00      1.00      1.00        11\n",
            "                        Malaria       1.00      1.00      1.00        11\n",
            "                       Migraine       1.00      1.00      1.00        10\n",
            "                      Pneumonia       1.00      1.00      1.00        11\n",
            "                      Psoriasis       1.00      0.83      0.91         6\n",
            "                        Typhoid       1.00      1.00      1.00         9\n",
            "                 Varicose Veins       1.00      1.00      1.00        12\n",
            "                        allergy       1.00      1.00      1.00        12\n",
            "                       diabetes       1.00      1.00      1.00         8\n",
            "                  drug reaction       1.00      1.00      1.00         5\n",
            "gastroesophageal reflux disease       1.00      1.00      1.00        11\n",
            "           peptic ulcer disease       0.92      1.00      0.96        11\n",
            "        urinary tract infection       1.00      1.00      1.00        11\n",
            "\n",
            "                       accuracy                           0.99       240\n",
            "                      macro avg       0.99      0.99      0.99       240\n",
            "                   weighted avg       0.99      0.99      0.99       240\n",
            "\n"
          ]
        }
      ],
      "source": [
        "report(y_test,svm_pred)"
      ]
    },
    {
      "cell_type": "code",
      "execution_count": null,
      "metadata": {
        "colab": {
          "base_uri": "https://localhost:8080/",
          "height": 35
        },
        "execution": {
          "iopub.execute_input": "2023-11-05T18:05:19.871255Z",
          "iopub.status.busy": "2023-11-05T18:05:19.870209Z",
          "iopub.status.idle": "2023-11-05T18:05:19.881804Z",
          "shell.execute_reply": "2023-11-05T18:05:19.880107Z",
          "shell.execute_reply.started": "2023-11-05T18:05:19.871217Z"
        },
        "id": "qXXzYs8hOwCv",
        "outputId": "9d603d23-071e-49ee-87ad-b1d6f061657f",
        "trusted": true
      },
      "outputs": [
        {
          "data": {
            "application/vnd.google.colaboratory.intrinsic+json": {
              "type": "string"
            },
            "text/plain": [
              "'allergy'"
            ]
          },
          "execution_count": 78,
          "metadata": {},
          "output_type": "execute_result"
        }
      ],
      "source": [
        "make_pred(svm,symp1)"
      ]
    },
    {
      "cell_type": "code",
      "execution_count": null,
      "metadata": {
        "colab": {
          "base_uri": "https://localhost:8080/"
        },
        "execution": {
          "iopub.execute_input": "2023-11-05T18:05:21.286348Z",
          "iopub.status.busy": "2023-11-05T18:05:21.285951Z",
          "iopub.status.idle": "2023-11-05T18:05:21.361392Z",
          "shell.execute_reply": "2023-11-05T18:05:21.360533Z",
          "shell.execute_reply.started": "2023-11-05T18:05:21.28632Z"
        },
        "id": "ms-_nxnuOwCv",
        "outputId": "5ff4eb4f-6555-4b8e-a5e4-396b548ed11e",
        "trusted": true
      },
      "outputs": [
        {
          "name": "stdout",
          "output_type": "stream",
          "text": [
            "Actual:  Psoriasis \t Pred:  Psoriasis -- True\n",
            "Actual:  Psoriasis \t Pred:  Psoriasis -- True\n",
            "Actual:  Varicose Veins \t Pred:  Varicose Veins -- True\n",
            "Actual:  Varicose Veins \t Pred:  Psoriasis -- False\n",
            "Actual:  Typhoid \t Pred:  Typhoid -- True\n",
            "Actual:  Typhoid \t Pred:  peptic ulcer disease -- False\n",
            "Actual:  Chickenpox \t Pred:  Chicken pox -- False\n",
            "Actual:  Chickenpox \t Pred:  Bronchial Asthma -- False\n",
            "Actual:  Impetigo \t Pred:  Impetigo -- True\n",
            "Actual:  Impetigo \t Pred:  Impetigo -- True\n",
            "Actual:  Dengue \t Pred:  Dengue -- True\n",
            "Actual:  Dengue \t Pred:  Dengue -- True\n",
            "Actual:  Fungal infection \t Pred:  Psoriasis -- False\n",
            "Actual:  Fungal infection \t Pred:  Psoriasis -- False\n",
            "Actual:  Common Cold \t Pred:  Common Cold -- True\n",
            "Actual:  Common Cold \t Pred:  Chicken pox -- False\n",
            "Actual:  Pneumonia \t Pred:  Bronchial Asthma -- False\n",
            "Actual:  Pneumonia \t Pred:  Bronchial Asthma -- False\n",
            "Actual:  Dimorphic Hemorrhoids \t Pred:  Dimorphic Hemorrhoids -- True\n",
            "Actual:  Dimorphic Hemorrhoids \t Pred:  peptic ulcer disease -- False\n",
            "Actual:  Arthritis \t Pred:  drug reaction -- False\n",
            "Actual:  Arthritis \t Pred:  Psoriasis -- False\n",
            "Actual:  Acne \t Pred:  Acne -- True\n",
            "Actual:  Acne \t Pred:  allergy -- False\n",
            "Actual:  Bronchial Asthma \t Pred:  allergy -- False\n",
            "Actual:  Bronchial Asthma \t Pred:  drug reaction -- False\n",
            "Actual:  Hypertension \t Pred:  urinary tract infection -- False\n",
            "Actual:  Hypertension \t Pred:  allergy -- False\n",
            "Actual:  Migraine \t Pred:  drug reaction -- False\n",
            "Actual:  Migraine \t Pred:  drug reaction -- False\n",
            "Actual:  Cervical spondylosis \t Pred:  Dengue -- False\n",
            "Actual:  Cervical spondylosis \t Pred:  drug reaction -- False\n",
            "Actual:  Jaundice \t Pred:  allergy -- False\n",
            "Actual:  Jaundice \t Pred:  peptic ulcer disease -- False\n",
            "Actual:  Malaria \t Pred:  Malaria -- True\n",
            "Actual:  Malaria \t Pred:  drug reaction -- False\n",
            "Actual:  Urinary tract infection \t Pred:  urinary tract infection -- True\n",
            "Actual:  Urinary tract infection \t Pred:  urinary tract infection -- True\n",
            "Actual:  Allergy \t Pred:  allergy -- True\n",
            "Actual:  Allergy \t Pred:  drug reaction -- False\n",
            "Actual:  Gastroesophageal reflux disease \t Pred:  gastroesophageal reflux disease -- True\n",
            "Actual:  Gastroesophageal reflux disease \t Pred:  drug reaction -- False\n",
            "Actual:  Drug reaction \t Pred:  Impetigo -- False\n",
            "Actual:  Drug reaction \t Pred:  allergy -- False\n",
            "Actual:  Peptic ulcer disease \t Pred:  peptic ulcer disease -- True\n",
            "Actual:  Peptic ulcer disease \t Pred:  peptic ulcer disease -- True\n",
            "Actual:  Diabetes \t Pred:  diabetes -- True\n",
            "Actual:  Diabetes \t Pred:  Migraine -- False\n",
            "\n",
            "Total:  48 \n",
            "Correct:  19\n"
          ]
        }
      ],
      "source": [
        "custom_test(svm)"
      ]
    },
    {
      "cell_type": "markdown",
      "metadata": {
        "id": "U9WtDl7UOwCv"
      },
      "source": [
        "### Random Forest"
      ]
    },
    {
      "cell_type": "code",
      "execution_count": null,
      "metadata": {
        "colab": {
          "base_uri": "https://localhost:8080/",
          "height": 75
        },
        "execution": {
          "iopub.execute_input": "2023-11-05T18:05:21.755377Z",
          "iopub.status.busy": "2023-11-05T18:05:21.754013Z",
          "iopub.status.idle": "2023-11-05T18:05:22.235808Z",
          "shell.execute_reply": "2023-11-05T18:05:22.233971Z",
          "shell.execute_reply.started": "2023-11-05T18:05:21.755337Z"
        },
        "id": "f8LDrxnUOwCv",
        "outputId": "6e743e2f-ee32-4c99-887a-1345edcc263f",
        "trusted": true
      },
      "outputs": [
        {
          "data": {
            "text/html": [
              "<style>#sk-container-id-4 {color: black;background-color: white;}#sk-container-id-4 pre{padding: 0;}#sk-container-id-4 div.sk-toggleable {background-color: white;}#sk-container-id-4 label.sk-toggleable__label {cursor: pointer;display: block;width: 100%;margin-bottom: 0;padding: 0.3em;box-sizing: border-box;text-align: center;}#sk-container-id-4 label.sk-toggleable__label-arrow:before {content: \"▸\";float: left;margin-right: 0.25em;color: #696969;}#sk-container-id-4 label.sk-toggleable__label-arrow:hover:before {color: black;}#sk-container-id-4 div.sk-estimator:hover label.sk-toggleable__label-arrow:before {color: black;}#sk-container-id-4 div.sk-toggleable__content {max-height: 0;max-width: 0;overflow: hidden;text-align: left;background-color: #f0f8ff;}#sk-container-id-4 div.sk-toggleable__content pre {margin: 0.2em;color: black;border-radius: 0.25em;background-color: #f0f8ff;}#sk-container-id-4 input.sk-toggleable__control:checked~div.sk-toggleable__content {max-height: 200px;max-width: 100%;overflow: auto;}#sk-container-id-4 input.sk-toggleable__control:checked~label.sk-toggleable__label-arrow:before {content: \"▾\";}#sk-container-id-4 div.sk-estimator input.sk-toggleable__control:checked~label.sk-toggleable__label {background-color: #d4ebff;}#sk-container-id-4 div.sk-label input.sk-toggleable__control:checked~label.sk-toggleable__label {background-color: #d4ebff;}#sk-container-id-4 input.sk-hidden--visually {border: 0;clip: rect(1px 1px 1px 1px);clip: rect(1px, 1px, 1px, 1px);height: 1px;margin: -1px;overflow: hidden;padding: 0;position: absolute;width: 1px;}#sk-container-id-4 div.sk-estimator {font-family: monospace;background-color: #f0f8ff;border: 1px dotted black;border-radius: 0.25em;box-sizing: border-box;margin-bottom: 0.5em;}#sk-container-id-4 div.sk-estimator:hover {background-color: #d4ebff;}#sk-container-id-4 div.sk-parallel-item::after {content: \"\";width: 100%;border-bottom: 1px solid gray;flex-grow: 1;}#sk-container-id-4 div.sk-label:hover label.sk-toggleable__label {background-color: #d4ebff;}#sk-container-id-4 div.sk-serial::before {content: \"\";position: absolute;border-left: 1px solid gray;box-sizing: border-box;top: 0;bottom: 0;left: 50%;z-index: 0;}#sk-container-id-4 div.sk-serial {display: flex;flex-direction: column;align-items: center;background-color: white;padding-right: 0.2em;padding-left: 0.2em;position: relative;}#sk-container-id-4 div.sk-item {position: relative;z-index: 1;}#sk-container-id-4 div.sk-parallel {display: flex;align-items: stretch;justify-content: center;background-color: white;position: relative;}#sk-container-id-4 div.sk-item::before, #sk-container-id-4 div.sk-parallel-item::before {content: \"\";position: absolute;border-left: 1px solid gray;box-sizing: border-box;top: 0;bottom: 0;left: 50%;z-index: -1;}#sk-container-id-4 div.sk-parallel-item {display: flex;flex-direction: column;z-index: 1;position: relative;background-color: white;}#sk-container-id-4 div.sk-parallel-item:first-child::after {align-self: flex-end;width: 50%;}#sk-container-id-4 div.sk-parallel-item:last-child::after {align-self: flex-start;width: 50%;}#sk-container-id-4 div.sk-parallel-item:only-child::after {width: 0;}#sk-container-id-4 div.sk-dashed-wrapped {border: 1px dashed gray;margin: 0 0.4em 0.5em 0.4em;box-sizing: border-box;padding-bottom: 0.4em;background-color: white;}#sk-container-id-4 div.sk-label label {font-family: monospace;font-weight: bold;display: inline-block;line-height: 1.2em;}#sk-container-id-4 div.sk-label-container {text-align: center;}#sk-container-id-4 div.sk-container {/* jupyter's `normalize.less` sets `[hidden] { display: none; }` but bootstrap.min.css set `[hidden] { display: none !important; }` so we also need the `!important` here to be able to override the default hidden behavior on the sphinx rendered scikit-learn.org. See: https://github.com/scikit-learn/scikit-learn/issues/21755 */display: inline-block !important;position: relative;}#sk-container-id-4 div.sk-text-repr-fallback {display: none;}</style><div id=\"sk-container-id-4\" class=\"sk-top-container\"><div class=\"sk-text-repr-fallback\"><pre>RandomForestClassifier()</pre><b>In a Jupyter environment, please rerun this cell to show the HTML representation or trust the notebook. <br />On GitHub, the HTML representation is unable to render, please try loading this page with nbviewer.org.</b></div><div class=\"sk-container\" hidden><div class=\"sk-item\"><div class=\"sk-estimator sk-toggleable\"><input class=\"sk-toggleable__control sk-hidden--visually\" id=\"sk-estimator-id-4\" type=\"checkbox\" checked><label for=\"sk-estimator-id-4\" class=\"sk-toggleable__label sk-toggleable__label-arrow\">RandomForestClassifier</label><div class=\"sk-toggleable__content\"><pre>RandomForestClassifier()</pre></div></div></div></div></div>"
            ],
            "text/plain": [
              "RandomForestClassifier()"
            ]
          },
          "execution_count": 80,
          "metadata": {},
          "output_type": "execute_result"
        }
      ],
      "source": [
        "rfc = RandomForestClassifier(n_estimators = 100)\n",
        "rfc.fit(tfidf_train,y_train)"
      ]
    },
    {
      "cell_type": "code",
      "execution_count": null,
      "metadata": {
        "colab": {
          "base_uri": "https://localhost:8080/"
        },
        "execution": {
          "iopub.execute_input": "2023-11-05T18:05:23.264745Z",
          "iopub.status.busy": "2023-11-05T18:05:23.26436Z",
          "iopub.status.idle": "2023-11-05T18:05:23.285385Z",
          "shell.execute_reply": "2023-11-05T18:05:23.283927Z",
          "shell.execute_reply.started": "2023-11-05T18:05:23.264715Z"
        },
        "id": "zr6rEy0EOwCv",
        "outputId": "ee08e9b5-2eb1-4f88-8414-784c1453b7e6",
        "trusted": true
      },
      "outputs": [
        {
          "name": "stdout",
          "output_type": "stream",
          "text": [
            "Accuracy: 0.99\n",
            "                                 precision    recall  f1-score   support\n",
            "\n",
            "                           Acne       1.00      1.00      1.00         7\n",
            "                      Arthritis       1.00      1.00      1.00        10\n",
            "               Bronchial Asthma       1.00      1.00      1.00        11\n",
            "           Cervical spondylosis       1.00      1.00      1.00         7\n",
            "                    Chicken pox       0.92      0.92      0.92        12\n",
            "                    Common Cold       1.00      1.00      1.00        12\n",
            "                         Dengue       0.92      0.92      0.92        12\n",
            "          Dimorphic Hemorrhoids       1.00      1.00      1.00         7\n",
            "               Fungal infection       1.00      1.00      1.00        13\n",
            "                   Hypertension       1.00      1.00      1.00        10\n",
            "                       Impetigo       1.00      1.00      1.00        11\n",
            "                       Jaundice       1.00      1.00      1.00        11\n",
            "                        Malaria       1.00      1.00      1.00        11\n",
            "                       Migraine       1.00      1.00      1.00        10\n",
            "                      Pneumonia       1.00      1.00      1.00        11\n",
            "                      Psoriasis       1.00      0.83      0.91         6\n",
            "                        Typhoid       1.00      1.00      1.00         9\n",
            "                 Varicose Veins       1.00      1.00      1.00        12\n",
            "                        allergy       1.00      1.00      1.00        12\n",
            "                       diabetes       1.00      1.00      1.00         8\n",
            "                  drug reaction       1.00      1.00      1.00         5\n",
            "gastroesophageal reflux disease       1.00      1.00      1.00        11\n",
            "           peptic ulcer disease       0.92      1.00      0.96        11\n",
            "        urinary tract infection       1.00      1.00      1.00        11\n",
            "\n",
            "                       accuracy                           0.99       240\n",
            "                      macro avg       0.99      0.99      0.99       240\n",
            "                   weighted avg       0.99      0.99      0.99       240\n",
            "\n"
          ]
        }
      ],
      "source": [
        "report(y_test,svm_pred)"
      ]
    },
    {
      "cell_type": "code",
      "execution_count": null,
      "metadata": {
        "colab": {
          "base_uri": "https://localhost:8080/",
          "height": 35
        },
        "execution": {
          "iopub.execute_input": "2023-11-05T18:05:23.462716Z",
          "iopub.status.busy": "2023-11-05T18:05:23.462373Z",
          "iopub.status.idle": "2023-11-05T18:05:23.479654Z",
          "shell.execute_reply": "2023-11-05T18:05:23.478503Z",
          "shell.execute_reply.started": "2023-11-05T18:05:23.462688Z"
        },
        "id": "UNfFT3nGOwCv",
        "outputId": "8e87b959-21f1-439a-bb3c-b478b44f43d7",
        "trusted": true
      },
      "outputs": [
        {
          "data": {
            "application/vnd.google.colaboratory.intrinsic+json": {
              "type": "string"
            },
            "text/plain": [
              "'Psoriasis'"
            ]
          },
          "execution_count": 82,
          "metadata": {},
          "output_type": "execute_result"
        }
      ],
      "source": [
        "make_pred(rfc,symp1)"
      ]
    },
    {
      "cell_type": "code",
      "execution_count": null,
      "metadata": {
        "colab": {
          "base_uri": "https://localhost:8080/"
        },
        "execution": {
          "iopub.execute_input": "2023-11-05T18:05:23.690546Z",
          "iopub.status.busy": "2023-11-05T18:05:23.690031Z",
          "iopub.status.idle": "2023-11-05T18:05:23.97371Z",
          "shell.execute_reply": "2023-11-05T18:05:23.972352Z",
          "shell.execute_reply.started": "2023-11-05T18:05:23.690518Z"
        },
        "id": "7KpKOtNOOwCv",
        "outputId": "8f2692d4-6f6c-4685-cf7a-470da7ffc688",
        "trusted": true
      },
      "outputs": [
        {
          "name": "stdout",
          "output_type": "stream",
          "text": [
            "Actual:  Psoriasis \t Pred:  Fungal infection -- False\n",
            "Actual:  Psoriasis \t Pred:  Psoriasis -- True\n",
            "Actual:  Varicose Veins \t Pred:  Varicose Veins -- True\n",
            "Actual:  Varicose Veins \t Pred:  Varicose Veins -- True\n",
            "Actual:  Typhoid \t Pred:  Typhoid -- True\n",
            "Actual:  Typhoid \t Pred:  drug reaction -- False\n",
            "Actual:  Chickenpox \t Pred:  Chicken pox -- False\n",
            "Actual:  Chickenpox \t Pred:  Typhoid -- False\n",
            "Actual:  Impetigo \t Pred:  Impetigo -- True\n",
            "Actual:  Impetigo \t Pred:  Impetigo -- True\n",
            "Actual:  Dengue \t Pred:  Chicken pox -- False\n",
            "Actual:  Dengue \t Pred:  Dengue -- True\n",
            "Actual:  Fungal infection \t Pred:  Psoriasis -- False\n",
            "Actual:  Fungal infection \t Pred:  Psoriasis -- False\n",
            "Actual:  Common Cold \t Pred:  allergy -- False\n",
            "Actual:  Common Cold \t Pred:  Chicken pox -- False\n",
            "Actual:  Pneumonia \t Pred:  Jaundice -- False\n",
            "Actual:  Pneumonia \t Pred:  Dengue -- False\n",
            "Actual:  Dimorphic Hemorrhoids \t Pred:  Dimorphic Hemorrhoids -- True\n",
            "Actual:  Dimorphic Hemorrhoids \t Pred:  drug reaction -- False\n",
            "Actual:  Arthritis \t Pred:  drug reaction -- False\n",
            "Actual:  Arthritis \t Pred:  Dengue -- False\n",
            "Actual:  Acne \t Pred:  Acne -- True\n",
            "Actual:  Acne \t Pred:  Chicken pox -- False\n",
            "Actual:  Bronchial Asthma \t Pred:  Common Cold -- False\n",
            "Actual:  Bronchial Asthma \t Pred:  drug reaction -- False\n",
            "Actual:  Hypertension \t Pred:  urinary tract infection -- False\n",
            "Actual:  Hypertension \t Pred:  drug reaction -- False\n",
            "Actual:  Migraine \t Pred:  drug reaction -- False\n",
            "Actual:  Migraine \t Pred:  drug reaction -- False\n",
            "Actual:  Cervical spondylosis \t Pred:  Cervical spondylosis -- True\n",
            "Actual:  Cervical spondylosis \t Pred:  drug reaction -- False\n",
            "Actual:  Jaundice \t Pred:  Psoriasis -- False\n",
            "Actual:  Jaundice \t Pred:  urinary tract infection -- False\n",
            "Actual:  Malaria \t Pred:  drug reaction -- False\n",
            "Actual:  Malaria \t Pred:  Hypertension -- False\n",
            "Actual:  Urinary tract infection \t Pred:  urinary tract infection -- True\n",
            "Actual:  Urinary tract infection \t Pred:  urinary tract infection -- True\n",
            "Actual:  Allergy \t Pred:  allergy -- True\n",
            "Actual:  Allergy \t Pred:  Psoriasis -- False\n",
            "Actual:  Gastroesophageal reflux disease \t Pred:  gastroesophageal reflux disease -- True\n",
            "Actual:  Gastroesophageal reflux disease \t Pred:  Hypertension -- False\n",
            "Actual:  Drug reaction \t Pred:  Chicken pox -- False\n",
            "Actual:  Drug reaction \t Pred:  drug reaction -- True\n",
            "Actual:  Peptic ulcer disease \t Pred:  Typhoid -- False\n",
            "Actual:  Peptic ulcer disease \t Pred:  drug reaction -- False\n",
            "Actual:  Diabetes \t Pred:  drug reaction -- False\n",
            "Actual:  Diabetes \t Pred:  Impetigo -- False\n",
            "\n",
            "Total:  48 \n",
            "Correct:  15\n"
          ]
        }
      ],
      "source": [
        "custom_test(rfc)"
      ]
    },
    {
      "cell_type": "markdown",
      "metadata": {
        "id": "rT2tr_2hOwC6"
      },
      "source": [
        "## Neural Networks"
      ]
    },
    {
      "cell_type": "code",
      "execution_count": null,
      "metadata": {
        "execution": {
          "iopub.execute_input": "2023-11-05T18:05:25.565486Z",
          "iopub.status.busy": "2023-11-05T18:05:25.564197Z",
          "iopub.status.idle": "2023-11-05T18:05:28.713821Z",
          "shell.execute_reply": "2023-11-05T18:05:28.71274Z",
          "shell.execute_reply.started": "2023-11-05T18:05:25.565432Z"
        },
        "id": "JGBRwJF4OwC7",
        "trusted": true
      },
      "outputs": [],
      "source": [
        "import torch\n",
        "from torch import nn,optim\n",
        "from torch.utils.data import DataLoader, TensorDataset"
      ]
    },
    {
      "cell_type": "code",
      "execution_count": null,
      "metadata": {
        "colab": {
          "base_uri": "https://localhost:8080/"
        },
        "execution": {
          "iopub.execute_input": "2023-11-05T18:05:28.715799Z",
          "iopub.status.busy": "2023-11-05T18:05:28.715358Z",
          "iopub.status.idle": "2023-11-05T18:05:28.72378Z",
          "shell.execute_reply": "2023-11-05T18:05:28.722233Z",
          "shell.execute_reply.started": "2023-11-05T18:05:28.715775Z"
        },
        "id": "yXPCouB9OwC7",
        "outputId": "637df064-dd60-4fe7-9f3b-ec990de8619f",
        "trusted": true
      },
      "outputs": [
        {
          "data": {
            "text/plain": [
              "(960, 1404)"
            ]
          },
          "execution_count": 85,
          "metadata": {},
          "output_type": "execute_result"
        }
      ],
      "source": [
        "tfidf_train.shape"
      ]
    },
    {
      "cell_type": "code",
      "execution_count": null,
      "metadata": {
        "execution": {
          "iopub.execute_input": "2023-11-05T09:17:19.401594Z",
          "iopub.status.busy": "2023-11-05T09:17:19.401245Z",
          "iopub.status.idle": "2023-11-05T09:17:19.413689Z",
          "shell.execute_reply": "2023-11-05T09:17:19.412676Z",
          "shell.execute_reply.started": "2023-11-05T09:17:19.401565Z"
        },
        "id": "rFgn63XLOwC7",
        "trusted": true
      },
      "outputs": [],
      "source": [
        "class ANN(nn.Module):\n",
        "    def __init__(self, input_dim, output_dim):\n",
        "        super(ANN, self).__init__()\n",
        "        self.fc1 = nn.Linear(input_dim, 512)\n",
        "        self.fc2 = nn.Linear(512, 256)\n",
        "        self.fc3 = nn.Linear(256, output_dim)\n",
        "\n",
        "\n",
        "    def forward(self, x):\n",
        "        x = self.fc1(x)\n",
        "        x = self.fc2(x)\n",
        "\n",
        "        return self.fc3(x)"
      ]
    },
    {
      "cell_type": "code",
      "execution_count": null,
      "metadata": {
        "execution": {
          "iopub.execute_input": "2023-11-05T09:17:19.415916Z",
          "iopub.status.busy": "2023-11-05T09:17:19.415486Z",
          "iopub.status.idle": "2023-11-05T09:17:19.464479Z",
          "shell.execute_reply": "2023-11-05T09:17:19.463462Z",
          "shell.execute_reply.started": "2023-11-05T09:17:19.415884Z"
        },
        "id": "apjflkcXOwC7",
        "trusted": true
      },
      "outputs": [],
      "source": [
        "input_dim = tfidf_train.shape[1]\n",
        "out_dim = 24\n",
        "\n",
        "ann = ANN(input_dim,out_dim)"
      ]
    },
    {
      "cell_type": "code",
      "execution_count": null,
      "metadata": {
        "execution": {
          "iopub.execute_input": "2023-11-05T09:17:19.466593Z",
          "iopub.status.busy": "2023-11-05T09:17:19.466208Z",
          "iopub.status.idle": "2023-11-05T09:17:19.472635Z",
          "shell.execute_reply": "2023-11-05T09:17:19.471447Z",
          "shell.execute_reply.started": "2023-11-05T09:17:19.466565Z"
        },
        "id": "-IE-R1t1OwC7",
        "trusted": true
      },
      "outputs": [],
      "source": [
        "criterion = nn.CrossEntropyLoss()\n",
        "optimizer = optim.Adam(ann.parameters(), lr=0.001)"
      ]
    },
    {
      "cell_type": "code",
      "execution_count": null,
      "metadata": {
        "execution": {
          "iopub.execute_input": "2023-11-05T09:17:19.47442Z",
          "iopub.status.busy": "2023-11-05T09:17:19.474112Z",
          "iopub.status.idle": "2023-11-05T09:17:19.486248Z",
          "shell.execute_reply": "2023-11-05T09:17:19.485143Z",
          "shell.execute_reply.started": "2023-11-05T09:17:19.474391Z"
        },
        "id": "kwIBMSyfOwC7",
        "trusted": true
      },
      "outputs": [],
      "source": [
        "diseases = df[\"label\"].unique()"
      ]
    },
    {
      "cell_type": "code",
      "execution_count": null,
      "metadata": {
        "execution": {
          "iopub.execute_input": "2023-11-05T09:17:19.487446Z",
          "iopub.status.busy": "2023-11-05T09:17:19.487158Z",
          "iopub.status.idle": "2023-11-05T09:17:19.498402Z",
          "shell.execute_reply": "2023-11-05T09:17:19.497177Z",
          "shell.execute_reply.started": "2023-11-05T09:17:19.48742Z"
        },
        "id": "ZaEN73_kOwC7",
        "trusted": true
      },
      "outputs": [],
      "source": [
        "idx2dis = {k:v for k,v in enumerate(diseases)}\n",
        "dis2idx = {v:k for k,v in idx2dis.items()}"
      ]
    },
    {
      "cell_type": "code",
      "execution_count": null,
      "metadata": {
        "execution": {
          "iopub.execute_input": "2023-11-05T09:17:19.499622Z",
          "iopub.status.busy": "2023-11-05T09:17:19.499313Z",
          "iopub.status.idle": "2023-11-05T09:17:19.512272Z",
          "shell.execute_reply": "2023-11-05T09:17:19.510693Z",
          "shell.execute_reply.started": "2023-11-05T09:17:19.499593Z"
        },
        "id": "2iCrfBWCOwC7",
        "trusted": true
      },
      "outputs": [],
      "source": [
        "y_train_int = y_train.apply(lambda x: dis2idx[x]).values\n",
        "y_test_int = y_test.apply(lambda x: dis2idx[x]).values"
      ]
    },
    {
      "cell_type": "code",
      "execution_count": null,
      "metadata": {
        "execution": {
          "iopub.execute_input": "2023-11-05T09:17:19.514003Z",
          "iopub.status.busy": "2023-11-05T09:17:19.513657Z",
          "iopub.status.idle": "2023-11-05T09:17:19.553438Z",
          "shell.execute_reply": "2023-11-05T09:17:19.551648Z",
          "shell.execute_reply.started": "2023-11-05T09:17:19.513973Z"
        },
        "id": "_fbOCTzZOwC7",
        "trusted": true
      },
      "outputs": [],
      "source": [
        "X_train_tensor = torch.tensor(tfidf_train,dtype=torch.float32)\n",
        "y_train_tensor = torch.tensor(y_train_int)\n",
        "\n",
        "X_test_tensor = torch.tensor(tfidf_test,dtype=torch.float32)\n",
        "y_test_tensor = torch.tensor(y_test_int)"
      ]
    },
    {
      "cell_type": "code",
      "execution_count": null,
      "metadata": {
        "execution": {
          "iopub.execute_input": "2023-11-05T09:17:19.555695Z",
          "iopub.status.busy": "2023-11-05T09:17:19.555104Z",
          "iopub.status.idle": "2023-11-05T09:17:19.559532Z",
          "shell.execute_reply": "2023-11-05T09:17:19.558881Z",
          "shell.execute_reply.started": "2023-11-05T09:17:19.555667Z"
        },
        "id": "0uiHOMD_OwC7",
        "trusted": true
      },
      "outputs": [],
      "source": [
        "train_dataset = TensorDataset(X_train_tensor,y_train_tensor)"
      ]
    },
    {
      "cell_type": "code",
      "execution_count": null,
      "metadata": {
        "execution": {
          "iopub.execute_input": "2023-11-05T09:17:19.561321Z",
          "iopub.status.busy": "2023-11-05T09:17:19.56062Z",
          "iopub.status.idle": "2023-11-05T09:17:19.57589Z",
          "shell.execute_reply": "2023-11-05T09:17:19.573921Z",
          "shell.execute_reply.started": "2023-11-05T09:17:19.561298Z"
        },
        "id": "3v_pTHZjOwC8",
        "trusted": true
      },
      "outputs": [],
      "source": [
        "train_loader = DataLoader(train_dataset, batch_size=32, shuffle=True)"
      ]
    },
    {
      "cell_type": "code",
      "execution_count": null,
      "metadata": {
        "execution": {
          "iopub.execute_input": "2023-11-05T09:17:19.577599Z",
          "iopub.status.busy": "2023-11-05T09:17:19.577183Z",
          "iopub.status.idle": "2023-11-05T09:17:21.339727Z",
          "shell.execute_reply": "2023-11-05T09:17:21.338635Z",
          "shell.execute_reply.started": "2023-11-05T09:17:19.577573Z"
        },
        "id": "qx6XqMviOwC8",
        "trusted": true
      },
      "outputs": [],
      "source": [
        "epochs = 12\n",
        "for epoch in range(epochs):\n",
        "    running_loss = 0.0\n",
        "    for i, data in enumerate(train_loader, 0):\n",
        "        inputs, labels = data\n",
        "#         print(inputs.shape,inputs.dtype)\n",
        "        optimizer.zero_grad()\n",
        "        outputs = ann(inputs)\n",
        "        loss = criterion(outputs, labels)\n",
        "        loss.backward()\n",
        "        optimizer.step()\n",
        "        running_loss += loss.item()"
      ]
    },
    {
      "cell_type": "code",
      "execution_count": null,
      "metadata": {
        "colab": {
          "base_uri": "https://localhost:8080/"
        },
        "execution": {
          "iopub.execute_input": "2023-11-05T09:17:21.341826Z",
          "iopub.status.busy": "2023-11-05T09:17:21.341279Z",
          "iopub.status.idle": "2023-11-05T09:17:21.349139Z",
          "shell.execute_reply": "2023-11-05T09:17:21.34776Z",
          "shell.execute_reply.started": "2023-11-05T09:17:21.341795Z"
        },
        "id": "33nUsvZfOwC8",
        "outputId": "98851a66-454a-479f-aecf-e43401646df2",
        "trusted": true
      },
      "outputs": [
        {
          "name": "stdout",
          "output_type": "stream",
          "text": [
            "Yellowing of skin and eyes, fatigue\n"
          ]
        }
      ],
      "source": [
        "text = clean_text(symp1)\n",
        "tfidf = tfidf_vectorizer.transform([text]).toarray()\n",
        "print(symp1)"
      ]
    },
    {
      "cell_type": "code",
      "execution_count": null,
      "metadata": {
        "colab": {
          "base_uri": "https://localhost:8080/",
          "height": 35
        },
        "execution": {
          "iopub.execute_input": "2023-11-05T09:17:21.351325Z",
          "iopub.status.busy": "2023-11-05T09:17:21.350722Z",
          "iopub.status.idle": "2023-11-05T09:17:21.371551Z",
          "shell.execute_reply": "2023-11-05T09:17:21.368979Z",
          "shell.execute_reply.started": "2023-11-05T09:17:21.351289Z"
        },
        "id": "EoehGDvqOwC8",
        "outputId": "44aa5d49-7519-4fef-f253-b8f1e531ffd1",
        "trusted": true
      },
      "outputs": [
        {
          "data": {
            "application/vnd.google.colaboratory.intrinsic+json": {
              "type": "string"
            },
            "text/plain": [
              "'Psoriasis'"
            ]
          },
          "execution_count": 97,
          "metadata": {},
          "output_type": "execute_result"
        }
      ],
      "source": [
        "pred = ann(torch.tensor(tfidf,dtype=torch.float32))\n",
        "idx2dis[pred.argmax().item()]"
      ]
    },
    {
      "cell_type": "code",
      "execution_count": null,
      "metadata": {
        "execution": {
          "iopub.execute_input": "2023-11-05T09:17:21.374994Z",
          "iopub.status.busy": "2023-11-05T09:17:21.373985Z",
          "iopub.status.idle": "2023-11-05T09:17:21.390978Z",
          "shell.execute_reply": "2023-11-05T09:17:21.388868Z",
          "shell.execute_reply.started": "2023-11-05T09:17:21.374922Z"
        },
        "id": "ix30fMMQOwC8",
        "trusted": true
      },
      "outputs": [],
      "source": [
        "pred_ann = ann(X_test_tensor).argmax(dim=1)"
      ]
    },
    {
      "cell_type": "code",
      "execution_count": null,
      "metadata": {
        "colab": {
          "base_uri": "https://localhost:8080/"
        },
        "execution": {
          "iopub.execute_input": "2023-11-05T09:17:21.393234Z",
          "iopub.status.busy": "2023-11-05T09:17:21.392788Z",
          "iopub.status.idle": "2023-11-05T09:17:21.410398Z",
          "shell.execute_reply": "2023-11-05T09:17:21.408852Z",
          "shell.execute_reply.started": "2023-11-05T09:17:21.393196Z"
        },
        "id": "4o5aZp6YOwC8",
        "outputId": "d831f84d-5efc-46ad-ca08-721d4334ff78",
        "trusted": true
      },
      "outputs": [
        {
          "name": "stdout",
          "output_type": "stream",
          "text": [
            "Accuracy: 0.97\n",
            "              precision    recall  f1-score   support\n",
            "\n",
            "           0       1.00      0.83      0.91         6\n",
            "           1       1.00      1.00      1.00        12\n",
            "           2       1.00      1.00      1.00         9\n",
            "           3       0.83      0.83      0.83        12\n",
            "           4       0.92      1.00      0.96        11\n",
            "           5       0.83      0.83      0.83        12\n",
            "           6       1.00      1.00      1.00        13\n",
            "           7       1.00      1.00      1.00        12\n",
            "           8       1.00      1.00      1.00        11\n",
            "           9       1.00      1.00      1.00         7\n",
            "          10       1.00      1.00      1.00        10\n",
            "          11       1.00      1.00      1.00         7\n",
            "          12       1.00      1.00      1.00        11\n",
            "          13       1.00      1.00      1.00        10\n",
            "          14       1.00      1.00      1.00        10\n",
            "          15       1.00      1.00      1.00         7\n",
            "          16       1.00      1.00      1.00        11\n",
            "          17       1.00      1.00      1.00        11\n",
            "          18       1.00      1.00      1.00        11\n",
            "          19       1.00      1.00      1.00        12\n",
            "          20       0.92      1.00      0.96        11\n",
            "          21       1.00      1.00      1.00         5\n",
            "          22       1.00      0.91      0.95        11\n",
            "          23       1.00      1.00      1.00         8\n",
            "\n",
            "    accuracy                           0.97       240\n",
            "   macro avg       0.98      0.98      0.98       240\n",
            "weighted avg       0.98      0.97      0.97       240\n",
            "\n"
          ]
        }
      ],
      "source": [
        "report(y_test_int,pred_ann.detach().numpy())"
      ]
    },
    {
      "cell_type": "code",
      "execution_count": null,
      "metadata": {
        "execution": {
          "iopub.execute_input": "2023-11-05T09:17:21.413514Z",
          "iopub.status.busy": "2023-11-05T09:17:21.412097Z",
          "iopub.status.idle": "2023-11-05T09:17:21.422042Z",
          "shell.execute_reply": "2023-11-05T09:17:21.420364Z",
          "shell.execute_reply.started": "2023-11-05T09:17:21.41347Z"
        },
        "id": "vFT1VK4LOwC8",
        "trusted": true
      },
      "outputs": [],
      "source": [
        "def custom_test():\n",
        "    c = 0\n",
        "    correct_count = 0\n",
        "\n",
        "    for dis,symptoms in cust_symptoms.items():\n",
        "        for symptom in symptoms:\n",
        "            c += 1\n",
        "            symptom = clean_text(symptom)\n",
        "            tfidf = tfidf_vectorizer.transform([symptom]).toarray()\n",
        "            pred = ann(torch.tensor(tfidf,dtype=torch.float32))\n",
        "            pred_txt = idx2dis[pred.argmax().item()]\n",
        "            correct = pred_txt.lower()==dis.lower()\n",
        "            if correct: correct_count += 1\n",
        "            print(\"Actual: \",dis,\"\\t Pred: \",pred_txt,\"--\",correct)\n",
        "\n",
        "    print(\"\\nTotal: \",c,\"\\nCorrect: \",correct_count)"
      ]
    },
    {
      "cell_type": "code",
      "execution_count": null,
      "metadata": {
        "colab": {
          "base_uri": "https://localhost:8080/"
        },
        "execution": {
          "iopub.execute_input": "2023-11-05T09:17:21.423703Z",
          "iopub.status.busy": "2023-11-05T09:17:21.423269Z",
          "iopub.status.idle": "2023-11-05T09:17:21.508134Z",
          "shell.execute_reply": "2023-11-05T09:17:21.507189Z",
          "shell.execute_reply.started": "2023-11-05T09:17:21.423663Z"
        },
        "id": "qVzbvpkCOwC9",
        "outputId": "a38fe7c1-c0d2-471c-e6f2-a1ec3cf0b4cc",
        "trusted": true
      },
      "outputs": [
        {
          "name": "stdout",
          "output_type": "stream",
          "text": [
            "Actual:  Psoriasis \t Pred:  Psoriasis -- True\n",
            "Actual:  Psoriasis \t Pred:  Psoriasis -- True\n",
            "Actual:  Varicose Veins \t Pred:  Varicose Veins -- True\n",
            "Actual:  Varicose Veins \t Pred:  Varicose Veins -- True\n",
            "Actual:  Typhoid \t Pred:  Typhoid -- True\n",
            "Actual:  Typhoid \t Pred:  Cervical spondylosis -- False\n",
            "Actual:  Chickenpox \t Pred:  Chicken pox -- False\n",
            "Actual:  Chickenpox \t Pred:  Bronchial Asthma -- False\n",
            "Actual:  Impetigo \t Pred:  Impetigo -- True\n",
            "Actual:  Impetigo \t Pred:  Impetigo -- True\n",
            "Actual:  Dengue \t Pred:  Dengue -- True\n",
            "Actual:  Dengue \t Pred:  Dengue -- True\n",
            "Actual:  Fungal infection \t Pred:  Psoriasis -- False\n",
            "Actual:  Fungal infection \t Pred:  Psoriasis -- False\n",
            "Actual:  Common Cold \t Pred:  Common Cold -- True\n",
            "Actual:  Common Cold \t Pred:  Chicken pox -- False\n",
            "Actual:  Pneumonia \t Pred:  Bronchial Asthma -- False\n",
            "Actual:  Pneumonia \t Pred:  Pneumonia -- True\n",
            "Actual:  Dimorphic Hemorrhoids \t Pred:  Dimorphic Hemorrhoids -- True\n",
            "Actual:  Dimorphic Hemorrhoids \t Pred:  Dimorphic Hemorrhoids -- True\n",
            "Actual:  Arthritis \t Pred:  drug reaction -- False\n",
            "Actual:  Arthritis \t Pred:  Psoriasis -- False\n",
            "Actual:  Acne \t Pred:  Acne -- True\n",
            "Actual:  Acne \t Pred:  allergy -- False\n",
            "Actual:  Bronchial Asthma \t Pred:  allergy -- False\n",
            "Actual:  Bronchial Asthma \t Pred:  allergy -- False\n",
            "Actual:  Hypertension \t Pred:  urinary tract infection -- False\n",
            "Actual:  Hypertension \t Pred:  drug reaction -- False\n",
            "Actual:  Migraine \t Pred:  drug reaction -- False\n",
            "Actual:  Migraine \t Pred:  diabetes -- False\n",
            "Actual:  Cervical spondylosis \t Pred:  Cervical spondylosis -- True\n",
            "Actual:  Cervical spondylosis \t Pred:  Cervical spondylosis -- True\n",
            "Actual:  Jaundice \t Pred:  allergy -- False\n",
            "Actual:  Jaundice \t Pred:  Jaundice -- True\n",
            "Actual:  Malaria \t Pred:  Malaria -- True\n",
            "Actual:  Malaria \t Pred:  Hypertension -- False\n",
            "Actual:  Urinary tract infection \t Pred:  urinary tract infection -- True\n",
            "Actual:  Urinary tract infection \t Pred:  urinary tract infection -- True\n",
            "Actual:  Allergy \t Pred:  Common Cold -- False\n",
            "Actual:  Allergy \t Pred:  drug reaction -- False\n",
            "Actual:  Gastroesophageal reflux disease \t Pred:  gastroesophageal reflux disease -- True\n",
            "Actual:  Gastroesophageal reflux disease \t Pred:  peptic ulcer disease -- False\n",
            "Actual:  Drug reaction \t Pred:  Impetigo -- False\n",
            "Actual:  Drug reaction \t Pred:  allergy -- False\n",
            "Actual:  Peptic ulcer disease \t Pred:  peptic ulcer disease -- True\n",
            "Actual:  Peptic ulcer disease \t Pred:  peptic ulcer disease -- True\n",
            "Actual:  Diabetes \t Pred:  diabetes -- True\n",
            "Actual:  Diabetes \t Pred:  Migraine -- False\n",
            "\n",
            "Total:  48 \n",
            "Correct:  24\n"
          ]
        }
      ],
      "source": [
        "custom_test()"
      ]
    },
    {
      "cell_type": "markdown",
      "metadata": {
        "id": "xBK5TARrOwC9"
      },
      "source": [
        "Better than before, but still the symptoms generated from ChatGPT are different from those in our dataset. We need to train on more diverse dataset to do better.\n",
        "\n",
        "## Sequence Models\n",
        "In another Notebook"
      ]
    },
    {
      "cell_type": "code",
      "execution_count": null,
      "metadata": {
        "colab": {
          "base_uri": "https://localhost:8080/"
        },
        "execution": {
          "iopub.execute_input": "2023-11-05T09:17:21.509618Z",
          "iopub.status.busy": "2023-11-05T09:17:21.509307Z",
          "iopub.status.idle": "2023-11-05T09:17:21.521499Z",
          "shell.execute_reply": "2023-11-05T09:17:21.51934Z",
          "shell.execute_reply.started": "2023-11-05T09:17:21.509563Z"
        },
        "id": "pxRUUs01OwC9",
        "outputId": "7d648225-52a6-4f2f-f851-42f7224e0c9e",
        "trusted": true
      },
      "outputs": [
        {
          "name": "stdout",
          "output_type": "stream",
          "text": [
            "Average words:  18\n",
            "Max words:  31\n"
          ]
        }
      ],
      "source": [
        "words = df[\"text\"].str.split().apply(len)\n",
        "print(\"Average words: \",int(words.mean()))\n",
        "print(\"Max words: \",int(words.max()))"
      ]
    },
    {
      "cell_type": "code",
      "execution_count": null,
      "metadata": {
        "id": "usUW3XqXSF5e"
      },
      "outputs": [],
      "source": [
        "make_pred()"
      ]
    }
  ],
  "metadata": {
    "colab": {
      "provenance": []
    },
    "kaggle": {
      "accelerator": "none",
      "dataSources": [
        {
          "datasetId": 3087304,
          "sourceId": 5312008,
          "sourceType": "datasetVersion"
        }
      ],
      "dockerImageVersionId": 30558,
      "isGpuEnabled": false,
      "isInternetEnabled": false,
      "language": "python",
      "sourceType": "notebook"
    },
    "kernelspec": {
      "display_name": "Python 3",
      "language": "python",
      "name": "python3"
    },
    "language_info": {
      "codemirror_mode": {
        "name": "ipython",
        "version": 3
      },
      "file_extension": ".py",
      "mimetype": "text/x-python",
      "name": "python",
      "nbconvert_exporter": "python",
      "pygments_lexer": "ipython3",
      "version": "3.6.4"
    }
  },
  "nbformat": 4,
  "nbformat_minor": 0
}
